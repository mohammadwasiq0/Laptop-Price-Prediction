{
 "cells": [
  {
   "cell_type": "markdown",
   "id": "eeaf3f5c",
   "metadata": {},
   "source": [
    "![irl](https://www.jobvacancyresult.com/storage/company/1976_innomatics.png)\n",
    "\n",
    "# Laptop Price Prediction\n",
    "\n",
    "## Name: Mohammad Wasiq\n",
    "\n",
    "## E-mail: `mohammadwasiq0786@gmail.com`"
   ]
  },
  {
   "cell_type": "code",
   "execution_count": 1,
   "id": "40402b29",
   "metadata": {
    "ExecuteTime": {
     "end_time": "2023-04-11T07:28:52.800116Z",
     "start_time": "2023-04-11T07:28:50.295813Z"
    }
   },
   "outputs": [],
   "source": [
    "import pandas as pd\n",
    "import numpy as np\n",
    "from matplotlib import pyplot as plt\n",
    "\n",
    "import warnings\n",
    "warnings.filterwarnings('ignore')"
   ]
  },
  {
   "cell_type": "code",
   "execution_count": 2,
   "id": "c3874bee",
   "metadata": {
    "ExecuteTime": {
     "end_time": "2023-04-11T07:28:52.831034Z",
     "start_time": "2023-04-11T07:28:52.802113Z"
    }
   },
   "outputs": [],
   "source": [
    "df = pd.read_csv('laptop_details.csv')"
   ]
  },
  {
   "cell_type": "code",
   "execution_count": 3,
   "id": "bf3ce614",
   "metadata": {
    "ExecuteTime": {
     "end_time": "2023-04-11T07:28:52.862952Z",
     "start_time": "2023-04-11T07:28:52.834027Z"
    }
   },
   "outputs": [
    {
     "data": {
      "text/html": [
       "<div>\n",
       "<style scoped>\n",
       "    .dataframe tbody tr th:only-of-type {\n",
       "        vertical-align: middle;\n",
       "    }\n",
       "\n",
       "    .dataframe tbody tr th {\n",
       "        vertical-align: top;\n",
       "    }\n",
       "\n",
       "    .dataframe thead th {\n",
       "        text-align: right;\n",
       "    }\n",
       "</style>\n",
       "<table border=\"1\" class=\"dataframe\">\n",
       "  <thead>\n",
       "    <tr style=\"text-align: right;\">\n",
       "      <th></th>\n",
       "      <th>Product</th>\n",
       "      <th>Rating</th>\n",
       "      <th>MRP</th>\n",
       "      <th>Feature</th>\n",
       "    </tr>\n",
       "  </thead>\n",
       "  <tbody>\n",
       "    <tr>\n",
       "      <th>0</th>\n",
       "      <td>Lenovo IdeaPad 3 Core i3 11th Gen - (8 GB/256 ...</td>\n",
       "      <td>4.2</td>\n",
       "      <td>₹36,990</td>\n",
       "      <td>Intel Core i3 Processor (11th Gen)8 GB DDR4 RA...</td>\n",
       "    </tr>\n",
       "    <tr>\n",
       "      <th>1</th>\n",
       "      <td>Lenovo IdeaPad 3 Core i3 11th Gen - (8 GB/512 ...</td>\n",
       "      <td>4.2</td>\n",
       "      <td>₹39,990</td>\n",
       "      <td>Intel Core i3 Processor (11th Gen)8 GB DDR4 RA...</td>\n",
       "    </tr>\n",
       "    <tr>\n",
       "      <th>2</th>\n",
       "      <td>ASUS VivoBook 15 (2022) Core i3 10th Gen - (8 ...</td>\n",
       "      <td>4.3</td>\n",
       "      <td>₹32,990</td>\n",
       "      <td>Intel Core i3 Processor (10th Gen)8 GB DDR4 RA...</td>\n",
       "    </tr>\n",
       "    <tr>\n",
       "      <th>3</th>\n",
       "      <td>HP Pavilion Ryzen 5 Hexa Core AMD R5-5600H - (...</td>\n",
       "      <td>4.4</td>\n",
       "      <td>₹49,990</td>\n",
       "      <td>AMD Ryzen 5 Hexa Core Processor8 GB DDR4 RAM64...</td>\n",
       "    </tr>\n",
       "    <tr>\n",
       "      <th>4</th>\n",
       "      <td>ASUS TUF Gaming F15 Core i5 10th Gen - (8 GB/5...</td>\n",
       "      <td>4.4</td>\n",
       "      <td>₹49,990</td>\n",
       "      <td>Intel Core i5 Processor (10th Gen)8 GB DDR4 RA...</td>\n",
       "    </tr>\n",
       "    <tr>\n",
       "      <th>5</th>\n",
       "      <td>HP 14s Intel Core i3 11th Gen - (8 GB/256 GB S...</td>\n",
       "      <td>4.2</td>\n",
       "      <td>₹36,990</td>\n",
       "      <td>Intel Core i3 Processor (11th Gen)8 GB DDR4 RA...</td>\n",
       "    </tr>\n",
       "    <tr>\n",
       "      <th>6</th>\n",
       "      <td>DELL Inspiron Core i3 11th Gen - (8 GB/1 TB HD...</td>\n",
       "      <td>4.3</td>\n",
       "      <td>₹38,990</td>\n",
       "      <td>Processor: Intel i3-1115G4 (Base- 1.70 GHz &amp; T...</td>\n",
       "    </tr>\n",
       "    <tr>\n",
       "      <th>7</th>\n",
       "      <td>RedmiBook Pro Core i5 11th Gen - (8 GB/512 GB ...</td>\n",
       "      <td>4.1</td>\n",
       "      <td>₹39,990</td>\n",
       "      <td>Intel Core i5 Processor (11th Gen)8 GB DDR4 RA...</td>\n",
       "    </tr>\n",
       "    <tr>\n",
       "      <th>8</th>\n",
       "      <td>realme Book (Slim) Core i3 11th Gen - (8 GB/25...</td>\n",
       "      <td>4.4</td>\n",
       "      <td>₹46,990</td>\n",
       "      <td>Stylish &amp; Portable Thin and Light Laptop14 inc...</td>\n",
       "    </tr>\n",
       "    <tr>\n",
       "      <th>9</th>\n",
       "      <td>ASUS VivoBook 14 (2022) Ryzen 7 Quad Core AMD ...</td>\n",
       "      <td>4.1</td>\n",
       "      <td>₹44,990</td>\n",
       "      <td>AMD Ryzen 7 Quad Core Processor16 GB DDR4 RAM6...</td>\n",
       "    </tr>\n",
       "  </tbody>\n",
       "</table>\n",
       "</div>"
      ],
      "text/plain": [
       "                                             Product  Rating      MRP  \\\n",
       "0  Lenovo IdeaPad 3 Core i3 11th Gen - (8 GB/256 ...     4.2  ₹36,990   \n",
       "1  Lenovo IdeaPad 3 Core i3 11th Gen - (8 GB/512 ...     4.2  ₹39,990   \n",
       "2  ASUS VivoBook 15 (2022) Core i3 10th Gen - (8 ...     4.3  ₹32,990   \n",
       "3  HP Pavilion Ryzen 5 Hexa Core AMD R5-5600H - (...     4.4  ₹49,990   \n",
       "4  ASUS TUF Gaming F15 Core i5 10th Gen - (8 GB/5...     4.4  ₹49,990   \n",
       "5  HP 14s Intel Core i3 11th Gen - (8 GB/256 GB S...     4.2  ₹36,990   \n",
       "6  DELL Inspiron Core i3 11th Gen - (8 GB/1 TB HD...     4.3  ₹38,990   \n",
       "7  RedmiBook Pro Core i5 11th Gen - (8 GB/512 GB ...     4.1  ₹39,990   \n",
       "8  realme Book (Slim) Core i3 11th Gen - (8 GB/25...     4.4  ₹46,990   \n",
       "9  ASUS VivoBook 14 (2022) Ryzen 7 Quad Core AMD ...     4.1  ₹44,990   \n",
       "\n",
       "                                             Feature  \n",
       "0  Intel Core i3 Processor (11th Gen)8 GB DDR4 RA...  \n",
       "1  Intel Core i3 Processor (11th Gen)8 GB DDR4 RA...  \n",
       "2  Intel Core i3 Processor (10th Gen)8 GB DDR4 RA...  \n",
       "3  AMD Ryzen 5 Hexa Core Processor8 GB DDR4 RAM64...  \n",
       "4  Intel Core i5 Processor (10th Gen)8 GB DDR4 RA...  \n",
       "5  Intel Core i3 Processor (11th Gen)8 GB DDR4 RA...  \n",
       "6  Processor: Intel i3-1115G4 (Base- 1.70 GHz & T...  \n",
       "7  Intel Core i5 Processor (11th Gen)8 GB DDR4 RA...  \n",
       "8  Stylish & Portable Thin and Light Laptop14 inc...  \n",
       "9  AMD Ryzen 7 Quad Core Processor16 GB DDR4 RAM6...  "
      ]
     },
     "execution_count": 3,
     "metadata": {},
     "output_type": "execute_result"
    }
   ],
   "source": [
    "df.head(10)"
   ]
  },
  {
   "cell_type": "code",
   "execution_count": 4,
   "id": "7177e082",
   "metadata": {
    "ExecuteTime": {
     "end_time": "2023-04-11T07:28:52.878907Z",
     "start_time": "2023-04-11T07:28:52.865942Z"
    }
   },
   "outputs": [
    {
     "data": {
      "text/plain": [
       "'Intel Core i3 Processor (11th Gen)8 GB DDR4 RAM64 bit Windows 11 Operating System256 GB SSD35.56 cm (14 inch) DisplayOffice Home and Student 20212 Year Onsite�Warranty'"
      ]
     },
     "execution_count": 4,
     "metadata": {},
     "output_type": "execute_result"
    }
   ],
   "source": [
    "df['Feature'][0]"
   ]
  },
  {
   "cell_type": "markdown",
   "id": "fe77fd83",
   "metadata": {},
   "source": [
    "# Data Cleaning"
   ]
  },
  {
   "cell_type": "code",
   "execution_count": 5,
   "id": "7dfb215b",
   "metadata": {
    "ExecuteTime": {
     "end_time": "2023-04-11T07:28:52.910821Z",
     "start_time": "2023-04-11T07:28:52.881899Z"
    }
   },
   "outputs": [
    {
     "data": {
      "text/plain": [
       "0    36990.0\n",
       "1    39990.0\n",
       "2    32990.0\n",
       "3    49990.0\n",
       "4    49990.0\n",
       "Name: MRP, dtype: float64"
      ]
     },
     "execution_count": 5,
     "metadata": {},
     "output_type": "execute_result"
    }
   ],
   "source": [
    "# MRP\n",
    "df['MRP']=df['MRP'].str.replace('₹','')\n",
    "df['MRP']=df['MRP'].str.replace(',','')\n",
    "df['MRP']=df['MRP'].astype('float64')\n",
    "df['MRP'].head()"
   ]
  },
  {
   "cell_type": "code",
   "execution_count": 6,
   "id": "ba97f983",
   "metadata": {
    "ExecuteTime": {
     "end_time": "2023-04-11T07:28:52.926781Z",
     "start_time": "2023-04-11T07:28:52.913814Z"
    }
   },
   "outputs": [
    {
     "name": "stdout",
     "output_type": "stream",
     "text": [
      "Intel Core i7 Processor (11th Gen)8 GB DDR4 RAM64 bit Windows 10 Operating System512 GB SSD39.62 cm (15.6 Inch) Display2 Year Carry-In Warranty Term\n",
      "MSI Core i7 11th Gen - (8 GB/512 GB SSD/Windows 10 Home/4 GB Graphics/NVIDIA GeForce RTX 3050/144 Hz) ...\n"
     ]
    }
   ],
   "source": [
    "# Feature and Product\n",
    "print(df['Feature'][100])\n",
    "print(df['Product'][100])"
   ]
  },
  {
   "cell_type": "code",
   "execution_count": 7,
   "id": "28f380dd",
   "metadata": {
    "ExecuteTime": {
     "end_time": "2023-04-11T07:28:52.942736Z",
     "start_time": "2023-04-11T07:28:52.928775Z"
    }
   },
   "outputs": [],
   "source": [
    "import re\n",
    "pattern=r'(?:AMD|Intel|M1|Apple|Qualcomm Snapdragon)[\\s\\w]+Processor'\n",
    "\n",
    "df['Processor'] = df['Feature'].apply(lambda x : re.findall(pattern, x))"
   ]
  },
  {
   "cell_type": "code",
   "execution_count": 8,
   "id": "2f281934",
   "metadata": {
    "ExecuteTime": {
     "end_time": "2023-04-11T07:28:52.958704Z",
     "start_time": "2023-04-11T07:28:52.945729Z"
    }
   },
   "outputs": [],
   "source": [
    "df.Processor = df.Processor.apply(lambda x : ''.join(x))"
   ]
  },
  {
   "cell_type": "code",
   "execution_count": 9,
   "id": "89d9cd69",
   "metadata": {
    "ExecuteTime": {
     "end_time": "2023-04-11T07:28:52.974653Z",
     "start_time": "2023-04-11T07:28:52.961686Z"
    }
   },
   "outputs": [],
   "source": [
    "pattern=r'^(?:AMD Ryzen|Intel|Apple)'\n",
    "df['Processor_type'] = df['Processor'].apply(lambda x : re.findall(pattern, x))"
   ]
  },
  {
   "cell_type": "code",
   "execution_count": 10,
   "id": "0fd302f9",
   "metadata": {
    "ExecuteTime": {
     "end_time": "2023-04-11T07:28:52.989613Z",
     "start_time": "2023-04-11T07:28:52.977644Z"
    }
   },
   "outputs": [
    {
     "data": {
      "text/plain": [
       "[Intel]        390\n",
       "[AMD Ryzen]    307\n",
       "[Apple]         19\n",
       "[]               4\n",
       "Name: Processor_type, dtype: int64"
      ]
     },
     "execution_count": 10,
     "metadata": {},
     "output_type": "execute_result"
    }
   ],
   "source": [
    "df['Processor_type'].value_counts()"
   ]
  },
  {
   "cell_type": "code",
   "execution_count": 11,
   "id": "97a8f250",
   "metadata": {
    "ExecuteTime": {
     "end_time": "2023-04-11T07:28:53.021526Z",
     "start_time": "2023-04-11T07:28:52.992604Z"
    }
   },
   "outputs": [
    {
     "data": {
      "text/plain": [
       "Intel        390\n",
       "AMD Ryzen    307\n",
       "Apple         19\n",
       "Name: Processor_type, dtype: int64"
      ]
     },
     "execution_count": 11,
     "metadata": {},
     "output_type": "execute_result"
    }
   ],
   "source": [
    "df.Processor_type = df.Processor_type.apply(lambda x : ''.join(x))\n",
    "index_names = df[ df['Processor_type'] ==''].index\n",
    "\n",
    "df.drop(index_names, inplace = True)\n",
    "df['Processor_type'].value_counts()"
   ]
  },
  {
   "cell_type": "code",
   "execution_count": 12,
   "id": "8b4c4143",
   "metadata": {
    "ExecuteTime": {
     "end_time": "2023-04-11T07:28:53.053443Z",
     "start_time": "2023-04-11T07:28:53.023520Z"
    }
   },
   "outputs": [],
   "source": [
    "pattern=r'\\d+\\sGB[\\s\\w]+RAM'\n",
    "\n",
    "df['RAM'] = df['Feature'].apply(lambda x : re.findall(pattern, x))"
   ]
  },
  {
   "cell_type": "code",
   "execution_count": 13,
   "id": "93708aae",
   "metadata": {
    "ExecuteTime": {
     "end_time": "2023-04-11T07:28:53.069400Z",
     "start_time": "2023-04-11T07:28:53.056433Z"
    }
   },
   "outputs": [],
   "source": [
    "index_names = df[ df['RAM'] == '128 GB SSD for Reduced Boot Up Time and in Game LoadingUpgradable SSD Upto 512 GB and RAM, 8 GB DDR4 RAM'].index\n",
    "\n",
    "df.drop(index_names, inplace = True)"
   ]
  },
  {
   "cell_type": "code",
   "execution_count": 14,
   "id": "0350f6ef",
   "metadata": {
    "ExecuteTime": {
     "end_time": "2023-04-11T07:28:53.085355Z",
     "start_time": "2023-04-11T07:28:53.072390Z"
    }
   },
   "outputs": [],
   "source": [
    "df.RAM = df.RAM.apply(lambda x : ''.join(x))\n",
    "df['RAM_GB']=df['RAM'].str[0:2]"
   ]
  },
  {
   "cell_type": "code",
   "execution_count": 15,
   "id": "89b53701",
   "metadata": {
    "ExecuteTime": {
     "end_time": "2023-04-11T07:28:53.101315Z",
     "start_time": "2023-04-11T07:28:53.088346Z"
    }
   },
   "outputs": [
    {
     "data": {
      "text/plain": [
       "8     400\n",
       "16    263\n",
       "4      35\n",
       "32     17\n",
       "12      1\n",
       "Name: RAM_GB, dtype: int64"
      ]
     },
     "execution_count": 15,
     "metadata": {},
     "output_type": "execute_result"
    }
   ],
   "source": [
    "df.RAM_GB.value_counts()"
   ]
  },
  {
   "cell_type": "code",
   "execution_count": 16,
   "id": "971e14d4",
   "metadata": {
    "ExecuteTime": {
     "end_time": "2023-04-11T07:28:53.132229Z",
     "start_time": "2023-04-11T07:28:53.107299Z"
    }
   },
   "outputs": [],
   "source": [
    "pattern=r'(?:DDR4|DDR5|LPDDR4X|LPDDR5|Unified Memory|LPDDR4|LPDDR4X|LPDDR3)'\n",
    "\n",
    "df['RAM_type'] = df['Feature'].apply(lambda x : re.findall(pattern, x))"
   ]
  },
  {
   "cell_type": "code",
   "execution_count": 17,
   "id": "4ad5ef62",
   "metadata": {
    "ExecuteTime": {
     "end_time": "2023-04-11T07:28:53.148187Z",
     "start_time": "2023-04-11T07:28:53.134224Z"
    }
   },
   "outputs": [
    {
     "data": {
      "text/plain": [
       "DDR4              549\n",
       "DDR5               92\n",
       "LPDDR4X            36\n",
       "Unified Memory     12\n",
       "LPDDR5              9\n",
       "DDR4DDR4            8\n",
       "LPDDR4              8\n",
       "DDR4DDR5DDR4        1\n",
       "LPDDR3              1\n",
       "Name: RAM_type, dtype: int64"
      ]
     },
     "execution_count": 17,
     "metadata": {},
     "output_type": "execute_result"
    }
   ],
   "source": [
    "df.RAM_type = df.RAM_type.apply(lambda x : ''.join(x))\n",
    "\n",
    "df.RAM_type.value_counts()"
   ]
  },
  {
   "cell_type": "code",
   "execution_count": 18,
   "id": "e50fef12",
   "metadata": {
    "ExecuteTime": {
     "end_time": "2023-04-11T07:28:53.164146Z",
     "start_time": "2023-04-11T07:28:53.151180Z"
    }
   },
   "outputs": [],
   "source": [
    "df['RAM_type']=df['RAM_type'].replace('DDR4DDR4','DDR4')\n",
    "df['RAM_type']=df['RAM_type'].replace('DDR4DDR5DDR4','DDR4')"
   ]
  },
  {
   "cell_type": "code",
   "execution_count": 19,
   "id": "fe11b2f0",
   "metadata": {
    "ExecuteTime": {
     "end_time": "2023-04-11T07:28:53.180102Z",
     "start_time": "2023-04-11T07:28:53.167137Z"
    }
   },
   "outputs": [
    {
     "data": {
      "text/plain": [
       "0        DDR4\n",
       "1        DDR4\n",
       "2        DDR4\n",
       "3        DDR4\n",
       "4        DDR4\n",
       "        ...  \n",
       "715    LPDDR4\n",
       "716      DDR4\n",
       "717      DDR5\n",
       "718    LPDDR5\n",
       "719      DDR4\n",
       "Name: RAM_type, Length: 716, dtype: object"
      ]
     },
     "execution_count": 19,
     "metadata": {},
     "output_type": "execute_result"
    }
   ],
   "source": [
    "df['RAM_type']"
   ]
  },
  {
   "cell_type": "code",
   "execution_count": 20,
   "id": "28379e32",
   "metadata": {
    "ExecuteTime": {
     "end_time": "2023-04-11T07:28:53.212016Z",
     "start_time": "2023-04-11T07:28:53.183095Z"
    }
   },
   "outputs": [
    {
     "data": {
      "text/plain": [
       "0    [256 GB SSD]\n",
       "1    [512 GB SSD]\n",
       "2    [512 GB SSD]\n",
       "3    [512 GB SSD]\n",
       "4    [512 GB SSD]\n",
       "Name: Storage, dtype: object"
      ]
     },
     "execution_count": 20,
     "metadata": {},
     "output_type": "execute_result"
    }
   ],
   "source": [
    "pattern=r'\\d+\\s(?:GB|TB)\\s(?:HDD|SSD)'\n",
    "\n",
    "df['Storage'] = df['Feature'].apply(lambda x : re.findall(pattern, x))\n",
    "df['Storage'].head()"
   ]
  },
  {
   "cell_type": "code",
   "execution_count": 21,
   "id": "d616fac8",
   "metadata": {
    "ExecuteTime": {
     "end_time": "2023-04-11T07:28:53.227974Z",
     "start_time": "2023-04-11T07:28:53.215010Z"
    }
   },
   "outputs": [],
   "source": [
    "df.Storage = df.Storage.apply(lambda x : ''.join(x))\n",
    "\n",
    "index_names = df[ df['Storage'] == ''].index\n",
    "\n",
    "df.drop(index_names, inplace = True)"
   ]
  },
  {
   "cell_type": "code",
   "execution_count": 22,
   "id": "77c31664",
   "metadata": {
    "ExecuteTime": {
     "end_time": "2023-04-11T07:28:53.243934Z",
     "start_time": "2023-04-11T07:28:53.229969Z"
    }
   },
   "outputs": [
    {
     "data": {
      "text/plain": [
       "0    256 GB SSD\n",
       "1    512 GB SSD\n",
       "2    512 GB SSD\n",
       "3    512 GB SSD\n",
       "4    512 GB SSD\n",
       "Name: Storage, dtype: object"
      ]
     },
     "execution_count": 22,
     "metadata": {},
     "output_type": "execute_result"
    }
   ],
   "source": [
    "df.Storage = df.Storage.apply(lambda x : ''.join(x))\n",
    "df['Storage'].head()"
   ]
  },
  {
   "cell_type": "code",
   "execution_count": 23,
   "id": "ccaeaa57",
   "metadata": {
    "ExecuteTime": {
     "end_time": "2023-04-11T07:28:53.259889Z",
     "start_time": "2023-04-11T07:28:53.246922Z"
    }
   },
   "outputs": [
    {
     "data": {
      "text/plain": [
       "SSD    660\n",
       "HDD     47\n",
       "Name: Disk_Type, dtype: int64"
      ]
     },
     "execution_count": 23,
     "metadata": {},
     "output_type": "execute_result"
    }
   ],
   "source": [
    "df['Disk_Type'] = df['Storage'].apply(lambda x:'HDD' if 'HDD' in x else 'SSD' )\n",
    "df['Disk_Type'].value_counts()"
   ]
  },
  {
   "cell_type": "code",
   "execution_count": 24,
   "id": "c045b2ab",
   "metadata": {
    "ExecuteTime": {
     "end_time": "2023-04-11T07:28:53.290806Z",
     "start_time": "2023-04-11T07:28:53.261884Z"
    }
   },
   "outputs": [
    {
     "data": {
      "text/plain": [
       "0    256\n",
       "1    512\n",
       "2    512\n",
       "3    512\n",
       "4    512\n",
       "Name: Disk_size, dtype: object"
      ]
     },
     "execution_count": 24,
     "metadata": {},
     "output_type": "execute_result"
    }
   ],
   "source": [
    "df['Disk_size']=df['Storage'].str.split().str[0]\n",
    "df['Disk_size']=df['Disk_size'].replace('1','1024').replace('2','2048')\n",
    "df['Disk_size'].head()"
   ]
  },
  {
   "cell_type": "code",
   "execution_count": 25,
   "id": "88c5b0cf",
   "metadata": {
    "ExecuteTime": {
     "end_time": "2023-04-11T07:28:53.306763Z",
     "start_time": "2023-04-11T07:28:53.293798Z"
    }
   },
   "outputs": [
    {
     "data": {
      "text/plain": [
       "512     374\n",
       "1024    220\n",
       "256      98\n",
       "128       8\n",
       "2048      7\n",
       "Name: Disk_size, dtype: int64"
      ]
     },
     "execution_count": 25,
     "metadata": {},
     "output_type": "execute_result"
    }
   ],
   "source": [
    "df['Disk_size'].astype('int')\n",
    "df['Disk_size'].value_counts()"
   ]
  },
  {
   "cell_type": "code",
   "execution_count": 26,
   "id": "d651aad3",
   "metadata": {
    "ExecuteTime": {
     "end_time": "2023-04-11T07:28:53.338678Z",
     "start_time": "2023-04-11T07:28:53.308759Z"
    }
   },
   "outputs": [
    {
     "data": {
      "text/plain": [
       "0    [Windows 11 Operating System]\n",
       "1    [Windows 11 Operating System]\n",
       "2    [Windows 11 Operating System]\n",
       "3    [Windows 10 Operating System]\n",
       "4    [Windows 11 Operating System]\n",
       "Name: OS, dtype: object"
      ]
     },
     "execution_count": 26,
     "metadata": {},
     "output_type": "execute_result"
    }
   ],
   "source": [
    "pattern=r'(?:Windows|DOS|Chrome|Mac)[\\w\\s]+Operating System'\n",
    "df['OS'] = df['Feature'].apply(lambda x : re.findall(pattern, x))\n",
    "df['OS'].head()"
   ]
  },
  {
   "cell_type": "code",
   "execution_count": 27,
   "id": "857f4865",
   "metadata": {
    "ExecuteTime": {
     "end_time": "2023-04-11T07:28:53.369595Z",
     "start_time": "2023-04-11T07:28:53.340673Z"
    }
   },
   "outputs": [],
   "source": [
    "df.OS = df.OS.apply(lambda x : ''.join(x))\n",
    "df.drop(df[df['OS']=='Windows 11 when availableAMD Ryzen 5 Hexa Core Processor8 GB DDR4 RAM64 bit Windows 11 Operating System'].index,inplace = True)\n",
    "df.drop(df[df['OS']=='Windows 10 Operating SystemWindows 10 Operating System'].index,inplace = True)\n",
    "df.drop(df[df['OS']=='Windows 11 when availableAMD Ryzen 5 Hexa Core Processor8 GB DDR4 RAM64 bit Windows 10 Operating System'].index,inplace = True)"
   ]
  },
  {
   "cell_type": "code",
   "execution_count": 28,
   "id": "370086a9",
   "metadata": {
    "ExecuteTime": {
     "end_time": "2023-04-11T07:28:53.385551Z",
     "start_time": "2023-04-11T07:28:53.372588Z"
    }
   },
   "outputs": [
    {
     "data": {
      "text/plain": [
       "0    Windows 11 Operating System\n",
       "1    Windows 11 Operating System\n",
       "2    Windows 11 Operating System\n",
       "3    Windows 10 Operating System\n",
       "4    Windows 11 Operating System\n",
       "Name: OS, dtype: object"
      ]
     },
     "execution_count": 28,
     "metadata": {},
     "output_type": "execute_result"
    }
   ],
   "source": [
    "df['OS'].head()"
   ]
  },
  {
   "cell_type": "code",
   "execution_count": 29,
   "id": "bb9e006f",
   "metadata": {
    "ExecuteTime": {
     "end_time": "2023-04-11T07:28:53.417470Z",
     "start_time": "2023-04-11T07:28:53.388545Z"
    }
   },
   "outputs": [
    {
     "data": {
      "text/plain": [
       "0      [SSD35.56 cm (14 inch) Display]\n",
       "1    [SSD39.62 cm (15.6 inch) Display]\n",
       "2    [SSD39.62 cm (15.6 inch) Display]\n",
       "3    [SSD39.62 cm (15.6 inch) Display]\n",
       "4    [SSD39.62 cm (15.6 inch) Display]\n",
       "Name: Display, dtype: object"
      ]
     },
     "execution_count": 29,
     "metadata": {},
     "output_type": "execute_result"
    }
   ],
   "source": [
    "pattern=r'(?:SSD|HDD)\\d+[(\\w\\s).]+Display'\n",
    "df['Display'] = df['Feature'].apply(lambda x : re.findall(pattern, x))\n",
    "df['Display'].head()"
   ]
  },
  {
   "cell_type": "code",
   "execution_count": 30,
   "id": "d9c68b06",
   "metadata": {
    "ExecuteTime": {
     "end_time": "2023-04-11T07:28:53.433426Z",
     "start_time": "2023-04-11T07:28:53.420460Z"
    }
   },
   "outputs": [],
   "source": [
    "df.Display = df.Display.apply(lambda x : ''.join(x))\n",
    "df.Display=df.Display.str.replace('SSD','')\n",
    "df.Display=df.Display.str.replace('HDD','')"
   ]
  },
  {
   "cell_type": "code",
   "execution_count": 31,
   "id": "b741300f",
   "metadata": {
    "ExecuteTime": {
     "end_time": "2023-04-11T07:28:53.448386Z",
     "start_time": "2023-04-11T07:28:53.435419Z"
    }
   },
   "outputs": [
    {
     "data": {
      "text/plain": [
       "0      35.56 cm (14 inch) Display\n",
       "1    39.62 cm (15.6 inch) Display\n",
       "2    39.62 cm (15.6 inch) Display\n",
       "3    39.62 cm (15.6 inch) Display\n",
       "4    39.62 cm (15.6 inch) Display\n",
       "Name: Display, dtype: object"
      ]
     },
     "execution_count": 31,
     "metadata": {},
     "output_type": "execute_result"
    }
   ],
   "source": [
    "df['Display'].head()"
   ]
  },
  {
   "cell_type": "code",
   "execution_count": 32,
   "id": "38f4c9f2",
   "metadata": {
    "ExecuteTime": {
     "end_time": "2023-04-11T07:28:53.464342Z",
     "start_time": "2023-04-11T07:28:53.450379Z"
    }
   },
   "outputs": [
    {
     "data": {
      "text/plain": [
       "0      35.56 cm (14 inch) Display\n",
       "1    39.62 cm (15.6 inch) Display\n",
       "2    39.62 cm (15.6 inch) Display\n",
       "3    39.62 cm (15.6 inch) Display\n",
       "4    39.62 cm (15.6 inch) Display\n",
       "Name: Display, dtype: object"
      ]
     },
     "execution_count": 32,
     "metadata": {},
     "output_type": "execute_result"
    }
   ],
   "source": [
    "df['Display_cm']=df['Display'].str[0:5]\n",
    "df['Display'].head()"
   ]
  },
  {
   "cell_type": "code",
   "execution_count": 33,
   "id": "34d5c056",
   "metadata": {
    "ExecuteTime": {
     "end_time": "2023-04-11T07:28:53.480300Z",
     "start_time": "2023-04-11T07:28:53.467335Z"
    }
   },
   "outputs": [],
   "source": [
    "pattern= r'(\\d+(?:\\.\\d+)?)'\n",
    "df['Display_size'] = df['Display'].apply(lambda x : re.findall(pattern, x))"
   ]
  },
  {
   "cell_type": "code",
   "execution_count": 34,
   "id": "0d82064d",
   "metadata": {
    "ExecuteTime": {
     "end_time": "2023-04-11T07:28:53.496256Z",
     "start_time": "2023-04-11T07:28:53.482294Z"
    }
   },
   "outputs": [],
   "source": [
    "df['Display_inches']=df['Display_size'].str[1]"
   ]
  },
  {
   "cell_type": "code",
   "execution_count": 35,
   "id": "5cfeee46",
   "metadata": {
    "ExecuteTime": {
     "end_time": "2023-04-11T07:28:53.512214Z",
     "start_time": "2023-04-11T07:28:53.498251Z"
    }
   },
   "outputs": [
    {
     "data": {
      "text/plain": [
       "0      14\n",
       "1    15.6\n",
       "2    15.6\n",
       "3    15.6\n",
       "4    15.6\n",
       "Name: Display_inches, dtype: object"
      ]
     },
     "execution_count": 35,
     "metadata": {},
     "output_type": "execute_result"
    }
   ],
   "source": [
    "df['Display_inches'].head()"
   ]
  },
  {
   "cell_type": "code",
   "execution_count": 36,
   "id": "ac37bc7d",
   "metadata": {
    "ExecuteTime": {
     "end_time": "2023-04-11T07:28:53.528171Z",
     "start_time": "2023-04-11T07:28:53.515207Z"
    }
   },
   "outputs": [],
   "source": [
    "df['Display_inches']=df['Display_inches'].replace('35','14')"
   ]
  },
  {
   "cell_type": "code",
   "execution_count": 37,
   "id": "67aa03d3",
   "metadata": {
    "ExecuteTime": {
     "end_time": "2023-04-11T07:28:53.544129Z",
     "start_time": "2023-04-11T07:28:53.531163Z"
    }
   },
   "outputs": [],
   "source": [
    "df=df.drop(columns =['Processor','Storage','Rating','Product','Display','Display_size'])"
   ]
  },
  {
   "cell_type": "code",
   "execution_count": 38,
   "id": "e400ed7d",
   "metadata": {
    "ExecuteTime": {
     "end_time": "2023-04-11T07:28:53.576042Z",
     "start_time": "2023-04-11T07:28:53.547122Z"
    }
   },
   "outputs": [
    {
     "name": "stdout",
     "output_type": "stream",
     "text": [
      "<class 'pandas.core.frame.DataFrame'>\n",
      "Int64Index: 704 entries, 0 to 719\n",
      "Data columns (total 11 columns):\n",
      " #   Column          Non-Null Count  Dtype  \n",
      "---  ------          --------------  -----  \n",
      " 0   MRP             704 non-null    float64\n",
      " 1   Feature         704 non-null    object \n",
      " 2   Processor_type  704 non-null    object \n",
      " 3   RAM             704 non-null    object \n",
      " 4   RAM_GB          704 non-null    object \n",
      " 5   RAM_type        704 non-null    object \n",
      " 6   Disk_Type       704 non-null    object \n",
      " 7   Disk_size       704 non-null    object \n",
      " 8   OS              704 non-null    object \n",
      " 9   Display_cm      704 non-null    object \n",
      " 10  Display_inches  704 non-null    object \n",
      "dtypes: float64(1), object(10)\n",
      "memory usage: 66.0+ KB\n"
     ]
    }
   ],
   "source": [
    "df.info()"
   ]
  },
  {
   "cell_type": "code",
   "execution_count": 39,
   "id": "831db719",
   "metadata": {
    "ExecuteTime": {
     "end_time": "2023-04-11T07:28:53.623919Z",
     "start_time": "2023-04-11T07:28:53.580033Z"
    }
   },
   "outputs": [
    {
     "data": {
      "text/html": [
       "<div>\n",
       "<style scoped>\n",
       "    .dataframe tbody tr th:only-of-type {\n",
       "        vertical-align: middle;\n",
       "    }\n",
       "\n",
       "    .dataframe tbody tr th {\n",
       "        vertical-align: top;\n",
       "    }\n",
       "\n",
       "    .dataframe thead th {\n",
       "        text-align: right;\n",
       "    }\n",
       "</style>\n",
       "<table border=\"1\" class=\"dataframe\">\n",
       "  <thead>\n",
       "    <tr style=\"text-align: right;\">\n",
       "      <th></th>\n",
       "      <th>MRP</th>\n",
       "      <th>Feature</th>\n",
       "      <th>Processor_type</th>\n",
       "      <th>RAM</th>\n",
       "      <th>RAM_GB</th>\n",
       "      <th>RAM_type</th>\n",
       "      <th>Disk_Type</th>\n",
       "      <th>Disk_size</th>\n",
       "      <th>OS</th>\n",
       "      <th>Display_cm</th>\n",
       "      <th>Display_inches</th>\n",
       "    </tr>\n",
       "  </thead>\n",
       "  <tbody>\n",
       "    <tr>\n",
       "      <th>0</th>\n",
       "      <td>36990.0</td>\n",
       "      <td>Intel Core i3 Processor (11th Gen)8 GB DDR4 RA...</td>\n",
       "      <td>Intel</td>\n",
       "      <td>8 GB DDR4 RAM</td>\n",
       "      <td>8</td>\n",
       "      <td>DDR4</td>\n",
       "      <td>SSD</td>\n",
       "      <td>256</td>\n",
       "      <td>Windows 11 Operating System</td>\n",
       "      <td>35.56</td>\n",
       "      <td>14</td>\n",
       "    </tr>\n",
       "    <tr>\n",
       "      <th>1</th>\n",
       "      <td>39990.0</td>\n",
       "      <td>Intel Core i3 Processor (11th Gen)8 GB DDR4 RA...</td>\n",
       "      <td>Intel</td>\n",
       "      <td>8 GB DDR4 RAM</td>\n",
       "      <td>8</td>\n",
       "      <td>DDR4</td>\n",
       "      <td>SSD</td>\n",
       "      <td>512</td>\n",
       "      <td>Windows 11 Operating System</td>\n",
       "      <td>39.62</td>\n",
       "      <td>15.6</td>\n",
       "    </tr>\n",
       "    <tr>\n",
       "      <th>2</th>\n",
       "      <td>32990.0</td>\n",
       "      <td>Intel Core i3 Processor (10th Gen)8 GB DDR4 RA...</td>\n",
       "      <td>Intel</td>\n",
       "      <td>8 GB DDR4 RAM</td>\n",
       "      <td>8</td>\n",
       "      <td>DDR4</td>\n",
       "      <td>SSD</td>\n",
       "      <td>512</td>\n",
       "      <td>Windows 11 Operating System</td>\n",
       "      <td>39.62</td>\n",
       "      <td>15.6</td>\n",
       "    </tr>\n",
       "    <tr>\n",
       "      <th>3</th>\n",
       "      <td>49990.0</td>\n",
       "      <td>AMD Ryzen 5 Hexa Core Processor8 GB DDR4 RAM64...</td>\n",
       "      <td>AMD Ryzen</td>\n",
       "      <td>8 GB DDR4 RAM</td>\n",
       "      <td>8</td>\n",
       "      <td>DDR4</td>\n",
       "      <td>SSD</td>\n",
       "      <td>512</td>\n",
       "      <td>Windows 10 Operating System</td>\n",
       "      <td>39.62</td>\n",
       "      <td>15.6</td>\n",
       "    </tr>\n",
       "    <tr>\n",
       "      <th>4</th>\n",
       "      <td>49990.0</td>\n",
       "      <td>Intel Core i5 Processor (10th Gen)8 GB DDR4 RA...</td>\n",
       "      <td>Intel</td>\n",
       "      <td>8 GB DDR4 RAM</td>\n",
       "      <td>8</td>\n",
       "      <td>DDR4</td>\n",
       "      <td>SSD</td>\n",
       "      <td>512</td>\n",
       "      <td>Windows 11 Operating System</td>\n",
       "      <td>39.62</td>\n",
       "      <td>15.6</td>\n",
       "    </tr>\n",
       "  </tbody>\n",
       "</table>\n",
       "</div>"
      ],
      "text/plain": [
       "       MRP                                            Feature Processor_type  \\\n",
       "0  36990.0  Intel Core i3 Processor (11th Gen)8 GB DDR4 RA...          Intel   \n",
       "1  39990.0  Intel Core i3 Processor (11th Gen)8 GB DDR4 RA...          Intel   \n",
       "2  32990.0  Intel Core i3 Processor (10th Gen)8 GB DDR4 RA...          Intel   \n",
       "3  49990.0  AMD Ryzen 5 Hexa Core Processor8 GB DDR4 RAM64...      AMD Ryzen   \n",
       "4  49990.0  Intel Core i5 Processor (10th Gen)8 GB DDR4 RA...          Intel   \n",
       "\n",
       "             RAM RAM_GB RAM_type Disk_Type Disk_size  \\\n",
       "0  8 GB DDR4 RAM     8      DDR4       SSD       256   \n",
       "1  8 GB DDR4 RAM     8      DDR4       SSD       512   \n",
       "2  8 GB DDR4 RAM     8      DDR4       SSD       512   \n",
       "3  8 GB DDR4 RAM     8      DDR4       SSD       512   \n",
       "4  8 GB DDR4 RAM     8      DDR4       SSD       512   \n",
       "\n",
       "                            OS Display_cm Display_inches  \n",
       "0  Windows 11 Operating System      35.56             14  \n",
       "1  Windows 11 Operating System      39.62           15.6  \n",
       "2  Windows 11 Operating System      39.62           15.6  \n",
       "3  Windows 10 Operating System      39.62           15.6  \n",
       "4  Windows 11 Operating System      39.62           15.6  "
      ]
     },
     "execution_count": 39,
     "metadata": {},
     "output_type": "execute_result"
    }
   ],
   "source": [
    "df.head()"
   ]
  },
  {
   "cell_type": "markdown",
   "id": "c5abf32e",
   "metadata": {},
   "source": [
    "# Visualization"
   ]
  },
  {
   "cell_type": "code",
   "execution_count": 40,
   "id": "c2d01f37",
   "metadata": {
    "ExecuteTime": {
     "end_time": "2023-04-11T07:28:53.829376Z",
     "start_time": "2023-04-11T07:28:53.631893Z"
    },
    "scrolled": false
   },
   "outputs": [
    {
     "data": {
      "text/plain": [
       "<AxesSubplot:>"
      ]
     },
     "execution_count": 40,
     "metadata": {},
     "output_type": "execute_result"
    },
    {
     "data": {
      "image/png": "[encoded data removed]",
      "text/plain": [
       "<Figure size 432x288 with 1 Axes>"
      ]
     },
     "metadata": {
      "needs_background": "light"
     },
     "output_type": "display_data"
    }
   ],
   "source": [
    "df['MRP'].plot(kind='box')"
   ]
  },
  {
   "cell_type": "code",
   "execution_count": 41,
   "id": "bb310634",
   "metadata": {
    "ExecuteTime": {
     "end_time": "2023-04-11T07:28:53.986946Z",
     "start_time": "2023-04-11T07:28:53.832358Z"
    }
   },
   "outputs": [
    {
     "data": {
      "text/plain": [
       "<AxesSubplot:>"
      ]
     },
     "execution_count": 41,
     "metadata": {},
     "output_type": "execute_result"
    },
    {
     "data": {
      "image/png": "[encoded data removed]",
      "text/plain": [
       "<Figure size 432x288 with 1 Axes>"
      ]
     },
     "metadata": {
      "needs_background": "light"
     },
     "output_type": "display_data"
    }
   ],
   "source": [
    "# Processor_tpre\n",
    "df['Processor_type'].value_counts().sort_values().plot(kind='bar')"
   ]
  },
  {
   "cell_type": "markdown",
   "id": "7f256eeb",
   "metadata": {},
   "source": [
    "**Conclusion :**\n",
    "\n",
    "From the above **bar** plot we can easily say according to our dataset most of the laptop users use **`Intel`** processor. So my suggestion for laptop company is to produce more Intel processor laptop, then **`AMD Ryzen`** and then **`Apple`**. Users don't use Apple because it is too costly and not affordable for anyone.\n",
    "\n",
    "I am also using **Inter** Processor."
   ]
  },
  {
   "cell_type": "code",
   "execution_count": 42,
   "id": "b7e7e6eb",
   "metadata": {
    "ExecuteTime": {
     "end_time": "2023-04-11T07:28:54.145520Z",
     "start_time": "2023-04-11T07:28:53.990934Z"
    },
    "scrolled": true
   },
   "outputs": [
    {
     "data": {
      "text/plain": [
       "<AxesSubplot:>"
      ]
     },
     "execution_count": 42,
     "metadata": {},
     "output_type": "execute_result"
    },
    {
     "data": {
      "image/png": "[encoded data removed]",
      "text/plain": [
       "<Figure size 432x288 with 1 Axes>"
      ]
     },
     "metadata": {
      "needs_background": "light"
     },
     "output_type": "display_data"
    }
   ],
   "source": [
    "# Disk type\n",
    "df['Disk_Type'].value_counts().sort_values().plot(kind='barh')"
   ]
  },
  {
   "cell_type": "markdown",
   "id": "81f71b6f",
   "metadata": {},
   "source": [
    "**Conclusion :**\n",
    "\n",
    "From the above **bar** plot we can easily say according to our dataset most of the laptop users use **`SDD`** disk. Users use SSD because the speed  of SDD is too fast and our laptops run/work smoothly.\n",
    "\n",
    "I am also using **SDD** Hard Disk."
   ]
  },
  {
   "cell_type": "code",
   "execution_count": 43,
   "id": "3bc010bc",
   "metadata": {
    "ExecuteTime": {
     "end_time": "2023-04-11T07:28:54.336026Z",
     "start_time": "2023-04-11T07:28:54.147517Z"
    }
   },
   "outputs": [
    {
     "data": {
      "text/plain": [
       "<AxesSubplot:>"
      ]
     },
     "execution_count": 43,
     "metadata": {},
     "output_type": "execute_result"
    },
    {
     "data": {
      "image/png": "[encoded data removed]",
      "text/plain": [
       "<Figure size 432x288 with 1 Axes>"
      ]
     },
     "metadata": {
      "needs_background": "light"
     },
     "output_type": "display_data"
    }
   ],
   "source": [
    "# OS\n",
    "df['OS'].value_counts().sort_values().plot(kind='bar')"
   ]
  },
  {
   "cell_type": "markdown",
   "id": "eb355b6c",
   "metadata": {},
   "source": [
    "**Conclusion :**\n",
    "\n",
    "From the above **bar** plot we can easily say according to our dataset most of the laptop users use **`Window 11`** Operating System. Users use Window 11 because it is the latest OS and **`Window 11`** is the second choice of the users and that **`Mac OS`** is used and very few users use **`DOS`** Operating System.\n",
    "\n",
    "I am using **Window 10** Operating System and think to switch on **Window 11**."
   ]
  },
  {
   "cell_type": "code",
   "execution_count": 44,
   "id": "a59193ff",
   "metadata": {
    "ExecuteTime": {
     "end_time": "2023-04-11T07:28:54.509547Z",
     "start_time": "2023-04-11T07:28:54.340001Z"
    },
    "scrolled": true
   },
   "outputs": [
    {
     "data": {
      "text/plain": [
       "<AxesSubplot:>"
      ]
     },
     "execution_count": 44,
     "metadata": {},
     "output_type": "execute_result"
    },
    {
     "data": {
      "image/png": "[encoded data removed]",
      "text/plain": [
       "<Figure size 432x288 with 1 Axes>"
      ]
     },
     "metadata": {
      "needs_background": "light"
     },
     "output_type": "display_data"
    }
   ],
   "source": [
    "# RAM_SIZE\n",
    "df['RAM_GB'].value_counts().sort_values().plot(kind='bar')"
   ]
  },
  {
   "cell_type": "markdown",
   "id": "62f2dfc0",
   "metadata": {},
   "source": [
    "**Conclusion :**\n",
    "\n",
    "From the above **bar** plot we can easily say according to our dataset most of the laptop users use **8** RAM. The larger RAM, the higher speed.\n",
    "\n",
    "I am using 16 GB RAM"
   ]
  },
  {
   "cell_type": "code",
   "execution_count": 45,
   "id": "ee0f02b4",
   "metadata": {
    "ExecuteTime": {
     "end_time": "2023-04-11T07:28:54.700040Z",
     "start_time": "2023-04-11T07:28:54.513540Z"
    },
    "scrolled": true
   },
   "outputs": [
    {
     "data": {
      "text/plain": [
       "<AxesSubplot:>"
      ]
     },
     "execution_count": 45,
     "metadata": {},
     "output_type": "execute_result"
    },
    {
     "data": {
      "image/png": "[encoded data removed]",
      "text/plain": [
       "<Figure size 432x288 with 1 Axes>"
      ]
     },
     "metadata": {
      "needs_background": "light"
     },
     "output_type": "display_data"
    }
   ],
   "source": [
    "df['RAM_type'].value_counts().sort_values().plot(kind='bar')"
   ]
  },
  {
   "cell_type": "markdown",
   "id": "b59a0c73",
   "metadata": {},
   "source": [
    "**Conclusion :**\n",
    "\n",
    "From the above **bar** plot we can easily say according to our dataset most of the laptop users use **`DDR4`** type RAM and the second choice of the users is DDR5 and that **`LPDDR3`** is used and very few users.\n",
    "\n",
    "I am using **DDR4** RAM type."
   ]
  },
  {
   "cell_type": "code",
   "execution_count": 46,
   "id": "011cfdb2",
   "metadata": {
    "ExecuteTime": {
     "end_time": "2023-04-11T07:28:54.968320Z",
     "start_time": "2023-04-11T07:28:54.703034Z"
    },
    "scrolled": true
   },
   "outputs": [
    {
     "data": {
      "text/plain": [
       "<AxesSubplot:>"
      ]
     },
     "execution_count": 46,
     "metadata": {},
     "output_type": "execute_result"
    },
    {
     "data": {
      "image/png": "[encoded data removed]",
      "text/plain": [
       "<Figure size 432x288 with 1 Axes>"
      ]
     },
     "metadata": {
      "needs_background": "light"
     },
     "output_type": "display_data"
    }
   ],
   "source": [
    "df['Display_cm'].value_counts().sort_values().plot(kind='bar')"
   ]
  },
  {
   "cell_type": "code",
   "execution_count": 47,
   "id": "8a899e90",
   "metadata": {
    "ExecuteTime": {
     "end_time": "2023-04-11T07:28:55.221644Z",
     "start_time": "2023-04-11T07:28:54.971314Z"
    },
    "scrolled": true
   },
   "outputs": [
    {
     "data": {
      "text/plain": [
       "<AxesSubplot:>"
      ]
     },
     "execution_count": 47,
     "metadata": {},
     "output_type": "execute_result"
    },
    {
     "data": {
      "image/png": "[encoded data removed]",
      "text/plain": [
       "<Figure size 432x288 with 1 Axes>"
      ]
     },
     "metadata": {
      "needs_background": "light"
     },
     "output_type": "display_data"
    }
   ],
   "source": [
    "df['Display_inches'].value_counts().sort_values().plot(kind='bar')"
   ]
  },
  {
   "cell_type": "markdown",
   "id": "51e378f7",
   "metadata": {},
   "source": [
    "**Conclusion :**\n",
    "\n",
    "From the above **bar** plot we can easily say according to our dataset most of the laptop users use **`15.6 Inches`** Display because it is really interested to work with a large screen than a smaller one. and the second choice of the users is 14 Inches.\n",
    "\n",
    "I am using **14** Laptop Display."
   ]
  },
  {
   "cell_type": "code",
   "execution_count": 48,
   "id": "aaaf0af8",
   "metadata": {
    "ExecuteTime": {
     "end_time": "2023-04-11T07:28:56.299762Z",
     "start_time": "2023-04-11T07:28:55.224638Z"
    }
   },
   "outputs": [
    {
     "data": {
      "text/plain": [
       "<AxesSubplot:ylabel='Density'>"
      ]
     },
     "execution_count": 48,
     "metadata": {},
     "output_type": "execute_result"
    },
    {
     "data": {
      "image/png": "[encoded data removed]",
      "text/plain": [
       "<Figure size 432x288 with 1 Axes>"
      ]
     },
     "metadata": {
      "needs_background": "light"
     },
     "output_type": "display_data"
    }
   ],
   "source": [
    "df['MRP']=np.log(df.MRP)\n",
    "df['MRP'].plot(kind='kde')"
   ]
  },
  {
   "cell_type": "markdown",
   "id": "3e482dbd",
   "metadata": {},
   "source": [
    "**Conclusion :**\n",
    "\n",
    "Laptop prices are positively skewed."
   ]
  },
  {
   "cell_type": "code",
   "execution_count": 49,
   "id": "80b7d4bc",
   "metadata": {
    "ExecuteTime": {
     "end_time": "2023-04-11T07:28:56.315721Z",
     "start_time": "2023-04-11T07:28:56.302756Z"
    }
   },
   "outputs": [],
   "source": [
    "X = df.drop(columns=[\"RAM\", \"Display_cm\", \"Feature\",'MRP'])\n",
    "y = df.MRP"
   ]
  },
  {
   "cell_type": "code",
   "execution_count": 50,
   "id": "733ddf2a",
   "metadata": {
    "ExecuteTime": {
     "end_time": "2023-04-11T07:28:56.347634Z",
     "start_time": "2023-04-11T07:28:56.318712Z"
    }
   },
   "outputs": [
    {
     "data": {
      "text/html": [
       "<div>\n",
       "<style scoped>\n",
       "    .dataframe tbody tr th:only-of-type {\n",
       "        vertical-align: middle;\n",
       "    }\n",
       "\n",
       "    .dataframe tbody tr th {\n",
       "        vertical-align: top;\n",
       "    }\n",
       "\n",
       "    .dataframe thead th {\n",
       "        text-align: right;\n",
       "    }\n",
       "</style>\n",
       "<table border=\"1\" class=\"dataframe\">\n",
       "  <thead>\n",
       "    <tr style=\"text-align: right;\">\n",
       "      <th></th>\n",
       "      <th>Processor_type</th>\n",
       "      <th>RAM_GB</th>\n",
       "      <th>RAM_type</th>\n",
       "      <th>Disk_Type</th>\n",
       "      <th>Disk_size</th>\n",
       "      <th>OS</th>\n",
       "      <th>Display_inches</th>\n",
       "    </tr>\n",
       "  </thead>\n",
       "  <tbody>\n",
       "    <tr>\n",
       "      <th>0</th>\n",
       "      <td>Intel</td>\n",
       "      <td>8</td>\n",
       "      <td>DDR4</td>\n",
       "      <td>SSD</td>\n",
       "      <td>256</td>\n",
       "      <td>Windows 11 Operating System</td>\n",
       "      <td>14</td>\n",
       "    </tr>\n",
       "    <tr>\n",
       "      <th>1</th>\n",
       "      <td>Intel</td>\n",
       "      <td>8</td>\n",
       "      <td>DDR4</td>\n",
       "      <td>SSD</td>\n",
       "      <td>512</td>\n",
       "      <td>Windows 11 Operating System</td>\n",
       "      <td>15.6</td>\n",
       "    </tr>\n",
       "    <tr>\n",
       "      <th>2</th>\n",
       "      <td>Intel</td>\n",
       "      <td>8</td>\n",
       "      <td>DDR4</td>\n",
       "      <td>SSD</td>\n",
       "      <td>512</td>\n",
       "      <td>Windows 11 Operating System</td>\n",
       "      <td>15.6</td>\n",
       "    </tr>\n",
       "    <tr>\n",
       "      <th>3</th>\n",
       "      <td>AMD Ryzen</td>\n",
       "      <td>8</td>\n",
       "      <td>DDR4</td>\n",
       "      <td>SSD</td>\n",
       "      <td>512</td>\n",
       "      <td>Windows 10 Operating System</td>\n",
       "      <td>15.6</td>\n",
       "    </tr>\n",
       "    <tr>\n",
       "      <th>4</th>\n",
       "      <td>Intel</td>\n",
       "      <td>8</td>\n",
       "      <td>DDR4</td>\n",
       "      <td>SSD</td>\n",
       "      <td>512</td>\n",
       "      <td>Windows 11 Operating System</td>\n",
       "      <td>15.6</td>\n",
       "    </tr>\n",
       "    <tr>\n",
       "      <th>...</th>\n",
       "      <td>...</td>\n",
       "      <td>...</td>\n",
       "      <td>...</td>\n",
       "      <td>...</td>\n",
       "      <td>...</td>\n",
       "      <td>...</td>\n",
       "      <td>...</td>\n",
       "    </tr>\n",
       "    <tr>\n",
       "      <th>714</th>\n",
       "      <td>AMD Ryzen</td>\n",
       "      <td>16</td>\n",
       "      <td>DDR4</td>\n",
       "      <td>SSD</td>\n",
       "      <td>512</td>\n",
       "      <td>Windows 10 Operating System</td>\n",
       "      <td>15.6</td>\n",
       "    </tr>\n",
       "    <tr>\n",
       "      <th>716</th>\n",
       "      <td>AMD Ryzen</td>\n",
       "      <td>8</td>\n",
       "      <td>DDR4</td>\n",
       "      <td>SSD</td>\n",
       "      <td>512</td>\n",
       "      <td>Windows 11 Operating System</td>\n",
       "      <td>15.6</td>\n",
       "    </tr>\n",
       "    <tr>\n",
       "      <th>717</th>\n",
       "      <td>AMD Ryzen</td>\n",
       "      <td>16</td>\n",
       "      <td>DDR5</td>\n",
       "      <td>SSD</td>\n",
       "      <td>1024</td>\n",
       "      <td>Windows 11 Operating System</td>\n",
       "      <td>15.6</td>\n",
       "    </tr>\n",
       "    <tr>\n",
       "      <th>718</th>\n",
       "      <td>Intel</td>\n",
       "      <td>16</td>\n",
       "      <td>LPDDR5</td>\n",
       "      <td>SSD</td>\n",
       "      <td>512</td>\n",
       "      <td>Windows 11 Operating System</td>\n",
       "      <td>14</td>\n",
       "    </tr>\n",
       "    <tr>\n",
       "      <th>719</th>\n",
       "      <td>Intel</td>\n",
       "      <td>8</td>\n",
       "      <td>DDR4</td>\n",
       "      <td>HDD</td>\n",
       "      <td>1024</td>\n",
       "      <td>Windows 10 Operating System</td>\n",
       "      <td>15.6</td>\n",
       "    </tr>\n",
       "  </tbody>\n",
       "</table>\n",
       "<p>704 rows × 7 columns</p>\n",
       "</div>"
      ],
      "text/plain": [
       "    Processor_type RAM_GB RAM_type Disk_Type Disk_size  \\\n",
       "0            Intel     8      DDR4       SSD       256   \n",
       "1            Intel     8      DDR4       SSD       512   \n",
       "2            Intel     8      DDR4       SSD       512   \n",
       "3        AMD Ryzen     8      DDR4       SSD       512   \n",
       "4            Intel     8      DDR4       SSD       512   \n",
       "..             ...    ...      ...       ...       ...   \n",
       "714      AMD Ryzen     16     DDR4       SSD       512   \n",
       "716      AMD Ryzen     8      DDR4       SSD       512   \n",
       "717      AMD Ryzen     16     DDR5       SSD      1024   \n",
       "718          Intel     16   LPDDR5       SSD       512   \n",
       "719          Intel     8      DDR4       HDD      1024   \n",
       "\n",
       "                              OS Display_inches  \n",
       "0    Windows 11 Operating System             14  \n",
       "1    Windows 11 Operating System           15.6  \n",
       "2    Windows 11 Operating System           15.6  \n",
       "3    Windows 10 Operating System           15.6  \n",
       "4    Windows 11 Operating System           15.6  \n",
       "..                           ...            ...  \n",
       "714  Windows 10 Operating System           15.6  \n",
       "716  Windows 11 Operating System           15.6  \n",
       "717  Windows 11 Operating System           15.6  \n",
       "718  Windows 11 Operating System             14  \n",
       "719  Windows 10 Operating System           15.6  \n",
       "\n",
       "[704 rows x 7 columns]"
      ]
     },
     "execution_count": 50,
     "metadata": {},
     "output_type": "execute_result"
    }
   ],
   "source": [
    "X"
   ]
  },
  {
   "cell_type": "code",
   "execution_count": 51,
   "id": "5b7e10f6",
   "metadata": {
    "ExecuteTime": {
     "end_time": "2023-04-11T07:28:56.363591Z",
     "start_time": "2023-04-11T07:28:56.350627Z"
    }
   },
   "outputs": [
    {
     "data": {
      "text/plain": [
       "0      10.518403\n",
       "1      10.596385\n",
       "2      10.403960\n",
       "3      10.819578\n",
       "4      10.819578\n",
       "         ...    \n",
       "714    11.407565\n",
       "716    11.204905\n",
       "717    12.180704\n",
       "718    11.743958\n",
       "719    10.839385\n",
       "Name: MRP, Length: 704, dtype: float64"
      ]
     },
     "execution_count": 51,
     "metadata": {},
     "output_type": "execute_result"
    }
   ],
   "source": [
    "y"
   ]
  },
  {
   "cell_type": "code",
   "execution_count": 52,
   "id": "d73c8eb7",
   "metadata": {
    "ExecuteTime": {
     "end_time": "2023-04-11T07:28:56.379548Z",
     "start_time": "2023-04-11T07:28:56.366583Z"
    }
   },
   "outputs": [
    {
     "data": {
      "text/plain": [
       "Index(['Processor_type', 'RAM_GB', 'RAM_type', 'Disk_Type', 'Disk_size', 'OS',\n",
       "       'Display_inches'],\n",
       "      dtype='object')"
      ]
     },
     "execution_count": 52,
     "metadata": {},
     "output_type": "execute_result"
    }
   ],
   "source": [
    "X.columns"
   ]
  },
  {
   "cell_type": "code",
   "execution_count": 53,
   "id": "651413e4",
   "metadata": {
    "ExecuteTime": {
     "end_time": "2023-04-11T07:28:56.395505Z",
     "start_time": "2023-04-11T07:28:56.381543Z"
    }
   },
   "outputs": [],
   "source": [
    "col=['Processor_type', 'RAM_GB', 'RAM_type', 'Disk_Type', 'Disk_size', 'OS','Display_inches']"
   ]
  },
  {
   "cell_type": "markdown",
   "id": "99feeeb1",
   "metadata": {},
   "source": [
    "# Train Test Split"
   ]
  },
  {
   "cell_type": "code",
   "execution_count": 54,
   "id": "7681c92a",
   "metadata": {
    "ExecuteTime": {
     "end_time": "2023-04-11T07:28:56.570040Z",
     "start_time": "2023-04-11T07:28:56.398498Z"
    }
   },
   "outputs": [
    {
     "data": {
      "text/html": [
       "<style>#sk-container-id-1 {color: black;background-color: white;}#sk-container-id-1 pre{padding: 0;}#sk-container-id-1 div.sk-toggleable {background-color: white;}#sk-container-id-1 label.sk-toggleable__label {cursor: pointer;display: block;width: 100%;margin-bottom: 0;padding: 0.3em;box-sizing: border-box;text-align: center;}#sk-container-id-1 label.sk-toggleable__label-arrow:before {content: \"▸\";float: left;margin-right: 0.25em;color: #696969;}#sk-container-id-1 label.sk-toggleable__label-arrow:hover:before {color: black;}#sk-container-id-1 div.sk-estimator:hover label.sk-toggleable__label-arrow:before {color: black;}#sk-container-id-1 div.sk-toggleable__content {max-height: 0;max-width: 0;overflow: hidden;text-align: left;background-color: #f0f8ff;}#sk-container-id-1 div.sk-toggleable__content pre {margin: 0.2em;color: black;border-radius: 0.25em;background-color: #f0f8ff;}#sk-container-id-1 input.sk-toggleable__control:checked~div.sk-toggleable__content {max-height: 200px;max-width: 100%;overflow: auto;}#sk-container-id-1 input.sk-toggleable__control:checked~label.sk-toggleable__label-arrow:before {content: \"▾\";}#sk-container-id-1 div.sk-estimator input.sk-toggleable__control:checked~label.sk-toggleable__label {background-color: #d4ebff;}#sk-container-id-1 div.sk-label input.sk-toggleable__control:checked~label.sk-toggleable__label {background-color: #d4ebff;}#sk-container-id-1 input.sk-hidden--visually {border: 0;clip: rect(1px 1px 1px 1px);clip: rect(1px, 1px, 1px, 1px);height: 1px;margin: -1px;overflow: hidden;padding: 0;position: absolute;width: 1px;}#sk-container-id-1 div.sk-estimator {font-family: monospace;background-color: #f0f8ff;border: 1px dotted black;border-radius: 0.25em;box-sizing: border-box;margin-bottom: 0.5em;}#sk-container-id-1 div.sk-estimator:hover {background-color: #d4ebff;}#sk-container-id-1 div.sk-parallel-item::after {content: \"\";width: 100%;border-bottom: 1px solid gray;flex-grow: 1;}#sk-container-id-1 div.sk-label:hover label.sk-toggleable__label {background-color: #d4ebff;}#sk-container-id-1 div.sk-serial::before {content: \"\";position: absolute;border-left: 1px solid gray;box-sizing: border-box;top: 0;bottom: 0;left: 50%;z-index: 0;}#sk-container-id-1 div.sk-serial {display: flex;flex-direction: column;align-items: center;background-color: white;padding-right: 0.2em;padding-left: 0.2em;position: relative;}#sk-container-id-1 div.sk-item {position: relative;z-index: 1;}#sk-container-id-1 div.sk-parallel {display: flex;align-items: stretch;justify-content: center;background-color: white;position: relative;}#sk-container-id-1 div.sk-item::before, #sk-container-id-1 div.sk-parallel-item::before {content: \"\";position: absolute;border-left: 1px solid gray;box-sizing: border-box;top: 0;bottom: 0;left: 50%;z-index: -1;}#sk-container-id-1 div.sk-parallel-item {display: flex;flex-direction: column;z-index: 1;position: relative;background-color: white;}#sk-container-id-1 div.sk-parallel-item:first-child::after {align-self: flex-end;width: 50%;}#sk-container-id-1 div.sk-parallel-item:last-child::after {align-self: flex-start;width: 50%;}#sk-container-id-1 div.sk-parallel-item:only-child::after {width: 0;}#sk-container-id-1 div.sk-dashed-wrapped {border: 1px dashed gray;margin: 0 0.4em 0.5em 0.4em;box-sizing: border-box;padding-bottom: 0.4em;background-color: white;}#sk-container-id-1 div.sk-label label {font-family: monospace;font-weight: bold;display: inline-block;line-height: 1.2em;}#sk-container-id-1 div.sk-label-container {text-align: center;}#sk-container-id-1 div.sk-container {/* jupyter's `normalize.less` sets `[hidden] { display: none; }` but bootstrap.min.css set `[hidden] { display: none !important; }` so we also need the `!important` here to be able to override the default hidden behavior on the sphinx rendered scikit-learn.org. See: https://github.com/scikit-learn/scikit-learn/issues/21755 */display: inline-block !important;position: relative;}#sk-container-id-1 div.sk-text-repr-fallback {display: none;}</style><div id=\"sk-container-id-1\" class=\"sk-top-container\"><div class=\"sk-text-repr-fallback\"><pre>LabelEncoder()</pre><b>In a Jupyter environment, please rerun this cell to show the HTML representation or trust the notebook. <br />On GitHub, the HTML representation is unable to render, please try loading this page with nbviewer.org.</b></div><div class=\"sk-container\" hidden><div class=\"sk-item\"><div class=\"sk-estimator sk-toggleable\"><input class=\"sk-toggleable__control sk-hidden--visually\" id=\"sk-estimator-id-1\" type=\"checkbox\" checked><label for=\"sk-estimator-id-1\" class=\"sk-toggleable__label sk-toggleable__label-arrow\">LabelEncoder</label><div class=\"sk-toggleable__content\"><pre>LabelEncoder()</pre></div></div></div></div></div>"
      ],
      "text/plain": [
       "LabelEncoder()"
      ]
     },
     "execution_count": 54,
     "metadata": {},
     "output_type": "execute_result"
    }
   ],
   "source": [
    "from sklearn.preprocessing import LabelEncoder\n",
    "encode_os = LabelEncoder()\n",
    "encode_os"
   ]
  },
  {
   "cell_type": "code",
   "execution_count": 55,
   "id": "b897625a",
   "metadata": {
    "ExecuteTime": {
     "end_time": "2023-04-11T07:28:56.585998Z",
     "start_time": "2023-04-11T07:28:56.573031Z"
    }
   },
   "outputs": [],
   "source": [
    "X=X[col].apply(lambda col: encode_os.fit_transform(col))"
   ]
  },
  {
   "cell_type": "code",
   "execution_count": 56,
   "id": "08f64db9",
   "metadata": {
    "ExecuteTime": {
     "end_time": "2023-04-11T07:28:56.601954Z",
     "start_time": "2023-04-11T07:28:56.588989Z"
    }
   },
   "outputs": [
    {
     "data": {
      "text/plain": [
       "MRP               0\n",
       "Feature           0\n",
       "Processor_type    0\n",
       "RAM               0\n",
       "RAM_GB            0\n",
       "RAM_type          0\n",
       "Disk_Type         0\n",
       "Disk_size         0\n",
       "OS                0\n",
       "Display_cm        0\n",
       "Display_inches    0\n",
       "dtype: int64"
      ]
     },
     "execution_count": 56,
     "metadata": {},
     "output_type": "execute_result"
    }
   ],
   "source": [
    "df.isnull().sum()"
   ]
  },
  {
   "cell_type": "code",
   "execution_count": 57,
   "id": "6634bba3",
   "metadata": {
    "ExecuteTime": {
     "end_time": "2023-04-11T07:28:56.679746Z",
     "start_time": "2023-04-11T07:28:56.606941Z"
    }
   },
   "outputs": [],
   "source": [
    "# train test split\n",
    "from sklearn.model_selection import train_test_split\n",
    "X_train, X_test, y_train, y_test = train_test_split(X, y, test_size=0.25, random_state=100)"
   ]
  },
  {
   "cell_type": "code",
   "execution_count": 58,
   "id": "c56adda9",
   "metadata": {
    "ExecuteTime": {
     "end_time": "2023-04-11T07:28:56.711659Z",
     "start_time": "2023-04-11T07:28:56.682737Z"
    }
   },
   "outputs": [
    {
     "data": {
      "text/html": [
       "<div>\n",
       "<style scoped>\n",
       "    .dataframe tbody tr th:only-of-type {\n",
       "        vertical-align: middle;\n",
       "    }\n",
       "\n",
       "    .dataframe tbody tr th {\n",
       "        vertical-align: top;\n",
       "    }\n",
       "\n",
       "    .dataframe thead th {\n",
       "        text-align: right;\n",
       "    }\n",
       "</style>\n",
       "<table border=\"1\" class=\"dataframe\">\n",
       "  <thead>\n",
       "    <tr style=\"text-align: right;\">\n",
       "      <th></th>\n",
       "      <th>Processor_type</th>\n",
       "      <th>RAM_GB</th>\n",
       "      <th>RAM_type</th>\n",
       "      <th>Disk_Type</th>\n",
       "      <th>Disk_size</th>\n",
       "      <th>OS</th>\n",
       "      <th>Display_inches</th>\n",
       "    </tr>\n",
       "  </thead>\n",
       "  <tbody>\n",
       "    <tr>\n",
       "      <th>355</th>\n",
       "      <td>2</td>\n",
       "      <td>3</td>\n",
       "      <td>0</td>\n",
       "      <td>1</td>\n",
       "      <td>4</td>\n",
       "      <td>2</td>\n",
       "      <td>6</td>\n",
       "    </tr>\n",
       "    <tr>\n",
       "      <th>161</th>\n",
       "      <td>0</td>\n",
       "      <td>0</td>\n",
       "      <td>0</td>\n",
       "      <td>1</td>\n",
       "      <td>0</td>\n",
       "      <td>3</td>\n",
       "      <td>11</td>\n",
       "    </tr>\n",
       "    <tr>\n",
       "      <th>156</th>\n",
       "      <td>0</td>\n",
       "      <td>3</td>\n",
       "      <td>0</td>\n",
       "      <td>1</td>\n",
       "      <td>4</td>\n",
       "      <td>3</td>\n",
       "      <td>11</td>\n",
       "    </tr>\n",
       "    <tr>\n",
       "      <th>80</th>\n",
       "      <td>0</td>\n",
       "      <td>0</td>\n",
       "      <td>1</td>\n",
       "      <td>1</td>\n",
       "      <td>0</td>\n",
       "      <td>3</td>\n",
       "      <td>11</td>\n",
       "    </tr>\n",
       "    <tr>\n",
       "      <th>9</th>\n",
       "      <td>0</td>\n",
       "      <td>0</td>\n",
       "      <td>0</td>\n",
       "      <td>1</td>\n",
       "      <td>4</td>\n",
       "      <td>3</td>\n",
       "      <td>6</td>\n",
       "    </tr>\n",
       "    <tr>\n",
       "      <th>...</th>\n",
       "      <td>...</td>\n",
       "      <td>...</td>\n",
       "      <td>...</td>\n",
       "      <td>...</td>\n",
       "      <td>...</td>\n",
       "      <td>...</td>\n",
       "      <td>...</td>\n",
       "    </tr>\n",
       "    <tr>\n",
       "      <th>591</th>\n",
       "      <td>0</td>\n",
       "      <td>0</td>\n",
       "      <td>0</td>\n",
       "      <td>1</td>\n",
       "      <td>0</td>\n",
       "      <td>3</td>\n",
       "      <td>11</td>\n",
       "    </tr>\n",
       "    <tr>\n",
       "      <th>55</th>\n",
       "      <td>0</td>\n",
       "      <td>3</td>\n",
       "      <td>0</td>\n",
       "      <td>1</td>\n",
       "      <td>4</td>\n",
       "      <td>3</td>\n",
       "      <td>11</td>\n",
       "    </tr>\n",
       "    <tr>\n",
       "      <th>357</th>\n",
       "      <td>0</td>\n",
       "      <td>3</td>\n",
       "      <td>0</td>\n",
       "      <td>1</td>\n",
       "      <td>4</td>\n",
       "      <td>3</td>\n",
       "      <td>11</td>\n",
       "    </tr>\n",
       "    <tr>\n",
       "      <th>81</th>\n",
       "      <td>0</td>\n",
       "      <td>0</td>\n",
       "      <td>0</td>\n",
       "      <td>1</td>\n",
       "      <td>0</td>\n",
       "      <td>3</td>\n",
       "      <td>11</td>\n",
       "    </tr>\n",
       "    <tr>\n",
       "      <th>530</th>\n",
       "      <td>2</td>\n",
       "      <td>3</td>\n",
       "      <td>0</td>\n",
       "      <td>1</td>\n",
       "      <td>4</td>\n",
       "      <td>3</td>\n",
       "      <td>11</td>\n",
       "    </tr>\n",
       "  </tbody>\n",
       "</table>\n",
       "<p>528 rows × 7 columns</p>\n",
       "</div>"
      ],
      "text/plain": [
       "     Processor_type  RAM_GB  RAM_type  Disk_Type  Disk_size  OS  \\\n",
       "355               2       3         0          1          4   2   \n",
       "161               0       0         0          1          0   3   \n",
       "156               0       3         0          1          4   3   \n",
       "80                0       0         1          1          0   3   \n",
       "9                 0       0         0          1          4   3   \n",
       "..              ...     ...       ...        ...        ...  ..   \n",
       "591               0       0         0          1          0   3   \n",
       "55                0       3         0          1          4   3   \n",
       "357               0       3         0          1          4   3   \n",
       "81                0       0         0          1          0   3   \n",
       "530               2       3         0          1          4   3   \n",
       "\n",
       "     Display_inches  \n",
       "355               6  \n",
       "161              11  \n",
       "156              11  \n",
       "80               11  \n",
       "9                 6  \n",
       "..              ...  \n",
       "591              11  \n",
       "55               11  \n",
       "357              11  \n",
       "81               11  \n",
       "530              11  \n",
       "\n",
       "[528 rows x 7 columns]"
      ]
     },
     "execution_count": 58,
     "metadata": {},
     "output_type": "execute_result"
    }
   ],
   "source": [
    "X_train"
   ]
  },
  {
   "cell_type": "code",
   "execution_count": 59,
   "id": "371dfaff",
   "metadata": {
    "ExecuteTime": {
     "end_time": "2023-04-11T07:28:56.742577Z",
     "start_time": "2023-04-11T07:28:56.713655Z"
    }
   },
   "outputs": [
    {
     "data": {
      "text/html": [
       "<div>\n",
       "<style scoped>\n",
       "    .dataframe tbody tr th:only-of-type {\n",
       "        vertical-align: middle;\n",
       "    }\n",
       "\n",
       "    .dataframe tbody tr th {\n",
       "        vertical-align: top;\n",
       "    }\n",
       "\n",
       "    .dataframe thead th {\n",
       "        text-align: right;\n",
       "    }\n",
       "</style>\n",
       "<table border=\"1\" class=\"dataframe\">\n",
       "  <thead>\n",
       "    <tr style=\"text-align: right;\">\n",
       "      <th></th>\n",
       "      <th>Processor_type</th>\n",
       "      <th>RAM_GB</th>\n",
       "      <th>RAM_type</th>\n",
       "      <th>Disk_Type</th>\n",
       "      <th>Disk_size</th>\n",
       "      <th>OS</th>\n",
       "      <th>Display_inches</th>\n",
       "    </tr>\n",
       "  </thead>\n",
       "  <tbody>\n",
       "    <tr>\n",
       "      <th>419</th>\n",
       "      <td>2</td>\n",
       "      <td>3</td>\n",
       "      <td>0</td>\n",
       "      <td>1</td>\n",
       "      <td>3</td>\n",
       "      <td>2</td>\n",
       "      <td>11</td>\n",
       "    </tr>\n",
       "    <tr>\n",
       "      <th>500</th>\n",
       "      <td>2</td>\n",
       "      <td>3</td>\n",
       "      <td>0</td>\n",
       "      <td>1</td>\n",
       "      <td>4</td>\n",
       "      <td>3</td>\n",
       "      <td>11</td>\n",
       "    </tr>\n",
       "    <tr>\n",
       "      <th>339</th>\n",
       "      <td>2</td>\n",
       "      <td>0</td>\n",
       "      <td>0</td>\n",
       "      <td>1</td>\n",
       "      <td>4</td>\n",
       "      <td>3</td>\n",
       "      <td>11</td>\n",
       "    </tr>\n",
       "    <tr>\n",
       "      <th>278</th>\n",
       "      <td>0</td>\n",
       "      <td>3</td>\n",
       "      <td>0</td>\n",
       "      <td>0</td>\n",
       "      <td>0</td>\n",
       "      <td>2</td>\n",
       "      <td>11</td>\n",
       "    </tr>\n",
       "    <tr>\n",
       "      <th>254</th>\n",
       "      <td>2</td>\n",
       "      <td>0</td>\n",
       "      <td>0</td>\n",
       "      <td>1</td>\n",
       "      <td>4</td>\n",
       "      <td>3</td>\n",
       "      <td>6</td>\n",
       "    </tr>\n",
       "    <tr>\n",
       "      <th>...</th>\n",
       "      <td>...</td>\n",
       "      <td>...</td>\n",
       "      <td>...</td>\n",
       "      <td>...</td>\n",
       "      <td>...</td>\n",
       "      <td>...</td>\n",
       "      <td>...</td>\n",
       "    </tr>\n",
       "    <tr>\n",
       "      <th>199</th>\n",
       "      <td>2</td>\n",
       "      <td>3</td>\n",
       "      <td>0</td>\n",
       "      <td>0</td>\n",
       "      <td>0</td>\n",
       "      <td>2</td>\n",
       "      <td>11</td>\n",
       "    </tr>\n",
       "    <tr>\n",
       "      <th>623</th>\n",
       "      <td>2</td>\n",
       "      <td>0</td>\n",
       "      <td>0</td>\n",
       "      <td>1</td>\n",
       "      <td>4</td>\n",
       "      <td>2</td>\n",
       "      <td>6</td>\n",
       "    </tr>\n",
       "    <tr>\n",
       "      <th>432</th>\n",
       "      <td>0</td>\n",
       "      <td>3</td>\n",
       "      <td>0</td>\n",
       "      <td>1</td>\n",
       "      <td>4</td>\n",
       "      <td>3</td>\n",
       "      <td>11</td>\n",
       "    </tr>\n",
       "    <tr>\n",
       "      <th>213</th>\n",
       "      <td>2</td>\n",
       "      <td>3</td>\n",
       "      <td>0</td>\n",
       "      <td>1</td>\n",
       "      <td>4</td>\n",
       "      <td>3</td>\n",
       "      <td>11</td>\n",
       "    </tr>\n",
       "    <tr>\n",
       "      <th>499</th>\n",
       "      <td>2</td>\n",
       "      <td>3</td>\n",
       "      <td>4</td>\n",
       "      <td>1</td>\n",
       "      <td>4</td>\n",
       "      <td>3</td>\n",
       "      <td>6</td>\n",
       "    </tr>\n",
       "  </tbody>\n",
       "</table>\n",
       "<p>176 rows × 7 columns</p>\n",
       "</div>"
      ],
      "text/plain": [
       "     Processor_type  RAM_GB  RAM_type  Disk_Type  Disk_size  OS  \\\n",
       "419               2       3         0          1          3   2   \n",
       "500               2       3         0          1          4   3   \n",
       "339               2       0         0          1          4   3   \n",
       "278               0       3         0          0          0   2   \n",
       "254               2       0         0          1          4   3   \n",
       "..              ...     ...       ...        ...        ...  ..   \n",
       "199               2       3         0          0          0   2   \n",
       "623               2       0         0          1          4   2   \n",
       "432               0       3         0          1          4   3   \n",
       "213               2       3         0          1          4   3   \n",
       "499               2       3         4          1          4   3   \n",
       "\n",
       "     Display_inches  \n",
       "419              11  \n",
       "500              11  \n",
       "339              11  \n",
       "278              11  \n",
       "254               6  \n",
       "..              ...  \n",
       "199              11  \n",
       "623               6  \n",
       "432              11  \n",
       "213              11  \n",
       "499               6  \n",
       "\n",
       "[176 rows x 7 columns]"
      ]
     },
     "execution_count": 59,
     "metadata": {},
     "output_type": "execute_result"
    }
   ],
   "source": [
    "X_test"
   ]
  },
  {
   "cell_type": "code",
   "execution_count": 60,
   "id": "3c946c38",
   "metadata": {
    "ExecuteTime": {
     "end_time": "2023-04-11T07:28:56.758535Z",
     "start_time": "2023-04-11T07:28:56.745572Z"
    }
   },
   "outputs": [
    {
     "data": {
      "text/plain": [
       "355    10.671046\n",
       "161    11.924969\n",
       "156    10.563724\n",
       "80     12.190908\n",
       "9      10.714196\n",
       "         ...    \n",
       "591    11.361986\n",
       "55     10.532070\n",
       "357    10.714196\n",
       "81     11.361986\n",
       "530    10.596385\n",
       "Name: MRP, Length: 528, dtype: float64"
      ]
     },
     "execution_count": 60,
     "metadata": {},
     "output_type": "execute_result"
    }
   ],
   "source": [
    "y_train"
   ]
  },
  {
   "cell_type": "markdown",
   "id": "dd362ddc",
   "metadata": {},
   "source": [
    "# Training"
   ]
  },
  {
   "cell_type": "code",
   "execution_count": 61,
   "id": "478f5b2c",
   "metadata": {
    "ExecuteTime": {
     "end_time": "2023-04-11T07:28:57.013854Z",
     "start_time": "2023-04-11T07:28:56.760531Z"
    }
   },
   "outputs": [],
   "source": [
    "from sklearn.linear_model import LinearRegression\n",
    "from sklearn.metrics import mean_squared_error, mean_absolute_error, r2_score\n",
    "import seaborn as sns\n",
    "import math\n",
    "import pickle"
   ]
  },
  {
   "cell_type": "code",
   "execution_count": 62,
   "id": "71267e57",
   "metadata": {
    "ExecuteTime": {
     "end_time": "2023-04-11T07:28:57.029809Z",
     "start_time": "2023-04-11T07:28:57.017841Z"
    }
   },
   "outputs": [],
   "source": [
    "reg = LinearRegression()"
   ]
  },
  {
   "cell_type": "code",
   "execution_count": 63,
   "id": "14fd3fb2",
   "metadata": {
    "ExecuteTime": {
     "end_time": "2023-04-11T07:28:57.045768Z",
     "start_time": "2023-04-11T07:28:57.032802Z"
    }
   },
   "outputs": [
    {
     "data": {
      "text/html": [
       "<style>#sk-container-id-2 {color: black;background-color: white;}#sk-container-id-2 pre{padding: 0;}#sk-container-id-2 div.sk-toggleable {background-color: white;}#sk-container-id-2 label.sk-toggleable__label {cursor: pointer;display: block;width: 100%;margin-bottom: 0;padding: 0.3em;box-sizing: border-box;text-align: center;}#sk-container-id-2 label.sk-toggleable__label-arrow:before {content: \"▸\";float: left;margin-right: 0.25em;color: #696969;}#sk-container-id-2 label.sk-toggleable__label-arrow:hover:before {color: black;}#sk-container-id-2 div.sk-estimator:hover label.sk-toggleable__label-arrow:before {color: black;}#sk-container-id-2 div.sk-toggleable__content {max-height: 0;max-width: 0;overflow: hidden;text-align: left;background-color: #f0f8ff;}#sk-container-id-2 div.sk-toggleable__content pre {margin: 0.2em;color: black;border-radius: 0.25em;background-color: #f0f8ff;}#sk-container-id-2 input.sk-toggleable__control:checked~div.sk-toggleable__content {max-height: 200px;max-width: 100%;overflow: auto;}#sk-container-id-2 input.sk-toggleable__control:checked~label.sk-toggleable__label-arrow:before {content: \"▾\";}#sk-container-id-2 div.sk-estimator input.sk-toggleable__control:checked~label.sk-toggleable__label {background-color: #d4ebff;}#sk-container-id-2 div.sk-label input.sk-toggleable__control:checked~label.sk-toggleable__label {background-color: #d4ebff;}#sk-container-id-2 input.sk-hidden--visually {border: 0;clip: rect(1px 1px 1px 1px);clip: rect(1px, 1px, 1px, 1px);height: 1px;margin: -1px;overflow: hidden;padding: 0;position: absolute;width: 1px;}#sk-container-id-2 div.sk-estimator {font-family: monospace;background-color: #f0f8ff;border: 1px dotted black;border-radius: 0.25em;box-sizing: border-box;margin-bottom: 0.5em;}#sk-container-id-2 div.sk-estimator:hover {background-color: #d4ebff;}#sk-container-id-2 div.sk-parallel-item::after {content: \"\";width: 100%;border-bottom: 1px solid gray;flex-grow: 1;}#sk-container-id-2 div.sk-label:hover label.sk-toggleable__label {background-color: #d4ebff;}#sk-container-id-2 div.sk-serial::before {content: \"\";position: absolute;border-left: 1px solid gray;box-sizing: border-box;top: 0;bottom: 0;left: 50%;z-index: 0;}#sk-container-id-2 div.sk-serial {display: flex;flex-direction: column;align-items: center;background-color: white;padding-right: 0.2em;padding-left: 0.2em;position: relative;}#sk-container-id-2 div.sk-item {position: relative;z-index: 1;}#sk-container-id-2 div.sk-parallel {display: flex;align-items: stretch;justify-content: center;background-color: white;position: relative;}#sk-container-id-2 div.sk-item::before, #sk-container-id-2 div.sk-parallel-item::before {content: \"\";position: absolute;border-left: 1px solid gray;box-sizing: border-box;top: 0;bottom: 0;left: 50%;z-index: -1;}#sk-container-id-2 div.sk-parallel-item {display: flex;flex-direction: column;z-index: 1;position: relative;background-color: white;}#sk-container-id-2 div.sk-parallel-item:first-child::after {align-self: flex-end;width: 50%;}#sk-container-id-2 div.sk-parallel-item:last-child::after {align-self: flex-start;width: 50%;}#sk-container-id-2 div.sk-parallel-item:only-child::after {width: 0;}#sk-container-id-2 div.sk-dashed-wrapped {border: 1px dashed gray;margin: 0 0.4em 0.5em 0.4em;box-sizing: border-box;padding-bottom: 0.4em;background-color: white;}#sk-container-id-2 div.sk-label label {font-family: monospace;font-weight: bold;display: inline-block;line-height: 1.2em;}#sk-container-id-2 div.sk-label-container {text-align: center;}#sk-container-id-2 div.sk-container {/* jupyter's `normalize.less` sets `[hidden] { display: none; }` but bootstrap.min.css set `[hidden] { display: none !important; }` so we also need the `!important` here to be able to override the default hidden behavior on the sphinx rendered scikit-learn.org. See: https://github.com/scikit-learn/scikit-learn/issues/21755 */display: inline-block !important;position: relative;}#sk-container-id-2 div.sk-text-repr-fallback {display: none;}</style><div id=\"sk-container-id-2\" class=\"sk-top-container\"><div class=\"sk-text-repr-fallback\"><pre>LinearRegression()</pre><b>In a Jupyter environment, please rerun this cell to show the HTML representation or trust the notebook. <br />On GitHub, the HTML representation is unable to render, please try loading this page with nbviewer.org.</b></div><div class=\"sk-container\" hidden><div class=\"sk-item\"><div class=\"sk-estimator sk-toggleable\"><input class=\"sk-toggleable__control sk-hidden--visually\" id=\"sk-estimator-id-2\" type=\"checkbox\" checked><label for=\"sk-estimator-id-2\" class=\"sk-toggleable__label sk-toggleable__label-arrow\">LinearRegression</label><div class=\"sk-toggleable__content\"><pre>LinearRegression()</pre></div></div></div></div></div>"
      ],
      "text/plain": [
       "LinearRegression()"
      ]
     },
     "execution_count": 63,
     "metadata": {},
     "output_type": "execute_result"
    }
   ],
   "source": [
    "reg.fit(X_train, y_train)"
   ]
  },
  {
   "cell_type": "code",
   "execution_count": 64,
   "id": "ef0d0c7f",
   "metadata": {
    "ExecuteTime": {
     "end_time": "2023-04-11T07:28:57.061723Z",
     "start_time": "2023-04-11T07:28:57.047761Z"
    }
   },
   "outputs": [],
   "source": [
    "y_pred = reg.predict(X_test)"
   ]
  },
  {
   "cell_type": "markdown",
   "id": "d9c3c28e",
   "metadata": {},
   "source": [
    "# Result"
   ]
  },
  {
   "cell_type": "code",
   "execution_count": 65,
   "id": "74a92a09",
   "metadata": {
    "ExecuteTime": {
     "end_time": "2023-04-11T07:28:57.109598Z",
     "start_time": "2023-04-11T07:28:57.096631Z"
    }
   },
   "outputs": [
    {
     "name": "stdout",
     "output_type": "stream",
     "text": [
      "Mean Square Error: 0.15392457113923627 \n",
      " Mean Absolute Error: 0.2740122524542959 \n",
      " Root Mean Square Error : 0.3923322203684478\n"
     ]
    }
   ],
   "source": [
    "mse = mean_squared_error(y_test, y_pred)\n",
    "mae = mean_absolute_error(y_test, y_pred)\n",
    "rmse = np.sqrt(mse)\n",
    "print(f\"Mean Square Error: {mse} \\n Mean Absolute Error: {mae} \\n Root Mean Square Error : {rmse}\")"
   ]
  },
  {
   "cell_type": "code",
   "execution_count": 66,
   "id": "bfc3fcb0",
   "metadata": {
    "ExecuteTime": {
     "end_time": "2023-04-11T07:28:57.173440Z",
     "start_time": "2023-04-11T07:28:57.158466Z"
    }
   },
   "outputs": [
    {
     "name": "stdout",
     "output_type": "stream",
     "text": [
      "R-square 0.6242275849061873\n"
     ]
    }
   ],
   "source": [
    "print(\"R-square\", r2_score(y_test, y_pred))"
   ]
  },
  {
   "cell_type": "code",
   "execution_count": 67,
   "id": "a1067593",
   "metadata": {
    "ExecuteTime": {
     "end_time": "2023-04-11T07:28:57.549419Z",
     "start_time": "2023-04-11T07:28:57.218307Z"
    }
   },
   "outputs": [
    {
     "data": {
      "text/plain": [
       "<AxesSubplot:xlabel='MRP'>"
      ]
     },
     "execution_count": 67,
     "metadata": {},
     "output_type": "execute_result"
    },
    {
     "data": {
      "image/png": "[encoded data removed]",
      "text/plain": [
       "<Figure size 432x288 with 1 Axes>"
      ]
     },
     "metadata": {
      "needs_background": "light"
     },
     "output_type": "display_data"
    }
   ],
   "source": [
    "# Predicting the price for a sample data\n",
    "sns.regplot(y_test, y_pred)"
   ]
  },
  {
   "cell_type": "code",
   "execution_count": 68,
   "id": "aabbec48",
   "metadata": {
    "ExecuteTime": {
     "end_time": "2023-04-11T07:28:57.565380Z",
     "start_time": "2023-04-11T07:28:57.552412Z"
    }
   },
   "outputs": [],
   "source": [
    "from sklearn.svm import SVR"
   ]
  },
  {
   "cell_type": "code",
   "execution_count": 69,
   "id": "0eb07bbd",
   "metadata": {
    "ExecuteTime": {
     "end_time": "2023-04-11T07:28:57.581334Z",
     "start_time": "2023-04-11T07:28:57.567374Z"
    }
   },
   "outputs": [],
   "source": [
    "svr = SVR()"
   ]
  },
  {
   "cell_type": "code",
   "execution_count": 70,
   "id": "24aa7633",
   "metadata": {
    "ExecuteTime": {
     "end_time": "2023-04-11T07:28:57.627215Z",
     "start_time": "2023-04-11T07:28:57.584330Z"
    }
   },
   "outputs": [
    {
     "data": {
      "text/html": [
       "<style>#sk-container-id-3 {color: black;background-color: white;}#sk-container-id-3 pre{padding: 0;}#sk-container-id-3 div.sk-toggleable {background-color: white;}#sk-container-id-3 label.sk-toggleable__label {cursor: pointer;display: block;width: 100%;margin-bottom: 0;padding: 0.3em;box-sizing: border-box;text-align: center;}#sk-container-id-3 label.sk-toggleable__label-arrow:before {content: \"▸\";float: left;margin-right: 0.25em;color: #696969;}#sk-container-id-3 label.sk-toggleable__label-arrow:hover:before {color: black;}#sk-container-id-3 div.sk-estimator:hover label.sk-toggleable__label-arrow:before {color: black;}#sk-container-id-3 div.sk-toggleable__content {max-height: 0;max-width: 0;overflow: hidden;text-align: left;background-color: #f0f8ff;}#sk-container-id-3 div.sk-toggleable__content pre {margin: 0.2em;color: black;border-radius: 0.25em;background-color: #f0f8ff;}#sk-container-id-3 input.sk-toggleable__control:checked~div.sk-toggleable__content {max-height: 200px;max-width: 100%;overflow: auto;}#sk-container-id-3 input.sk-toggleable__control:checked~label.sk-toggleable__label-arrow:before {content: \"▾\";}#sk-container-id-3 div.sk-estimator input.sk-toggleable__control:checked~label.sk-toggleable__label {background-color: #d4ebff;}#sk-container-id-3 div.sk-label input.sk-toggleable__control:checked~label.sk-toggleable__label {background-color: #d4ebff;}#sk-container-id-3 input.sk-hidden--visually {border: 0;clip: rect(1px 1px 1px 1px);clip: rect(1px, 1px, 1px, 1px);height: 1px;margin: -1px;overflow: hidden;padding: 0;position: absolute;width: 1px;}#sk-container-id-3 div.sk-estimator {font-family: monospace;background-color: #f0f8ff;border: 1px dotted black;border-radius: 0.25em;box-sizing: border-box;margin-bottom: 0.5em;}#sk-container-id-3 div.sk-estimator:hover {background-color: #d4ebff;}#sk-container-id-3 div.sk-parallel-item::after {content: \"\";width: 100%;border-bottom: 1px solid gray;flex-grow: 1;}#sk-container-id-3 div.sk-label:hover label.sk-toggleable__label {background-color: #d4ebff;}#sk-container-id-3 div.sk-serial::before {content: \"\";position: absolute;border-left: 1px solid gray;box-sizing: border-box;top: 0;bottom: 0;left: 50%;z-index: 0;}#sk-container-id-3 div.sk-serial {display: flex;flex-direction: column;align-items: center;background-color: white;padding-right: 0.2em;padding-left: 0.2em;position: relative;}#sk-container-id-3 div.sk-item {position: relative;z-index: 1;}#sk-container-id-3 div.sk-parallel {display: flex;align-items: stretch;justify-content: center;background-color: white;position: relative;}#sk-container-id-3 div.sk-item::before, #sk-container-id-3 div.sk-parallel-item::before {content: \"\";position: absolute;border-left: 1px solid gray;box-sizing: border-box;top: 0;bottom: 0;left: 50%;z-index: -1;}#sk-container-id-3 div.sk-parallel-item {display: flex;flex-direction: column;z-index: 1;position: relative;background-color: white;}#sk-container-id-3 div.sk-parallel-item:first-child::after {align-self: flex-end;width: 50%;}#sk-container-id-3 div.sk-parallel-item:last-child::after {align-self: flex-start;width: 50%;}#sk-container-id-3 div.sk-parallel-item:only-child::after {width: 0;}#sk-container-id-3 div.sk-dashed-wrapped {border: 1px dashed gray;margin: 0 0.4em 0.5em 0.4em;box-sizing: border-box;padding-bottom: 0.4em;background-color: white;}#sk-container-id-3 div.sk-label label {font-family: monospace;font-weight: bold;display: inline-block;line-height: 1.2em;}#sk-container-id-3 div.sk-label-container {text-align: center;}#sk-container-id-3 div.sk-container {/* jupyter's `normalize.less` sets `[hidden] { display: none; }` but bootstrap.min.css set `[hidden] { display: none !important; }` so we also need the `!important` here to be able to override the default hidden behavior on the sphinx rendered scikit-learn.org. See: https://github.com/scikit-learn/scikit-learn/issues/21755 */display: inline-block !important;position: relative;}#sk-container-id-3 div.sk-text-repr-fallback {display: none;}</style><div id=\"sk-container-id-3\" class=\"sk-top-container\"><div class=\"sk-text-repr-fallback\"><pre>SVR()</pre><b>In a Jupyter environment, please rerun this cell to show the HTML representation or trust the notebook. <br />On GitHub, the HTML representation is unable to render, please try loading this page with nbviewer.org.</b></div><div class=\"sk-container\" hidden><div class=\"sk-item\"><div class=\"sk-estimator sk-toggleable\"><input class=\"sk-toggleable__control sk-hidden--visually\" id=\"sk-estimator-id-3\" type=\"checkbox\" checked><label for=\"sk-estimator-id-3\" class=\"sk-toggleable__label sk-toggleable__label-arrow\">SVR</label><div class=\"sk-toggleable__content\"><pre>SVR()</pre></div></div></div></div></div>"
      ],
      "text/plain": [
       "SVR()"
      ]
     },
     "execution_count": 70,
     "metadata": {},
     "output_type": "execute_result"
    }
   ],
   "source": [
    "svr.fit(X_train, y_train)"
   ]
  },
  {
   "cell_type": "code",
   "execution_count": 71,
   "id": "0cedc157",
   "metadata": {
    "ExecuteTime": {
     "end_time": "2023-04-11T07:28:57.658132Z",
     "start_time": "2023-04-11T07:28:57.629207Z"
    }
   },
   "outputs": [],
   "source": [
    "yhat = svr.predict(X_test)"
   ]
  },
  {
   "cell_type": "code",
   "execution_count": 72,
   "id": "6c2219a9",
   "metadata": {
    "ExecuteTime": {
     "end_time": "2023-04-11T07:28:57.977279Z",
     "start_time": "2023-04-11T07:28:57.660126Z"
    }
   },
   "outputs": [
    {
     "data": {
      "text/plain": [
       "<AxesSubplot:xlabel='MRP'>"
      ]
     },
     "execution_count": 72,
     "metadata": {},
     "output_type": "execute_result"
    },
    {
     "data": {
      "image/png": "[encoded data removed]",
      "text/plain": [
       "<Figure size 432x288 with 1 Axes>"
      ]
     },
     "metadata": {
      "needs_background": "light"
     },
     "output_type": "display_data"
    }
   ],
   "source": [
    "sns.regplot(y_test, yhat)"
   ]
  },
  {
   "cell_type": "code",
   "execution_count": 73,
   "id": "a282692a",
   "metadata": {
    "ExecuteTime": {
     "end_time": "2023-04-11T07:28:57.993238Z",
     "start_time": "2023-04-11T07:28:57.980269Z"
    }
   },
   "outputs": [
    {
     "name": "stdout",
     "output_type": "stream",
     "text": [
      "R-square 0.6584028019491619\n"
     ]
    }
   ],
   "source": [
    "print(\"R-square\", r2_score(y_test, yhat))"
   ]
  },
  {
   "cell_type": "markdown",
   "id": "052882f1",
   "metadata": {},
   "source": [
    "Afrer comparison between Linear Regression and Support Vector Regression we can easily conclude that SVR performs much better than LR.\n",
    "\n",
    "The Accuray of SVR is $65\\%$ while the accuracy of LR is $62\\%$. "
   ]
  },
  {
   "cell_type": "code",
   "execution_count": 74,
   "id": "8c400645",
   "metadata": {
    "ExecuteTime": {
     "end_time": "2023-04-11T07:28:58.009191Z",
     "start_time": "2023-04-11T07:28:57.996225Z"
    }
   },
   "outputs": [],
   "source": [
    "pickle.dump(svr,open('model.sav', 'wb'))"
   ]
  },
  {
   "cell_type": "code",
   "execution_count": 75,
   "id": "0b2c69ed",
   "metadata": {
    "ExecuteTime": {
     "end_time": "2023-04-11T07:28:58.041106Z",
     "start_time": "2023-04-11T07:28:58.029138Z"
    }
   },
   "outputs": [],
   "source": [
    "pickle.dump(encode_os, open('encode_os.sav', 'wb'))"
   ]
  },
  {
   "cell_type": "code",
   "execution_count": 76,
   "id": "f3e17953",
   "metadata": {
    "ExecuteTime": {
     "end_time": "2023-04-11T07:28:58.136849Z",
     "start_time": "2023-04-11T07:28:58.128873Z"
    }
   },
   "outputs": [],
   "source": [
    "pickle.dump(reg, open('finalized_model.sav', 'wb'))"
   ]
  },
  {
   "cell_type": "code",
   "execution_count": 77,
   "id": "468bcf20",
   "metadata": {
    "ExecuteTime": {
     "end_time": "2023-04-11T07:28:58.231597Z",
     "start_time": "2023-04-11T07:28:58.218632Z"
    }
   },
   "outputs": [],
   "source": [
    "model = pickle.load(open('finalized_model.sav', 'rb'))"
   ]
  }
 ],
 "metadata": {
  "kernelspec": {
   "display_name": "Python 3 (ipykernel)",
   "language": "python",
   "name": "python3"
  },
  "language_info": {
   "codemirror_mode": {
    "name": "ipython",
    "version": 3
   },
   "file_extension": ".py",
   "mimetype": "text/x-python",
   "name": "python",
   "nbconvert_exporter": "python",
   "pygments_lexer": "ipython3",
   "version": "3.9.12"
  },
  "latex_envs": {
   "LaTeX_envs_menu_present": true,
   "autoclose": false,
   "autocomplete": true,
   "bibliofile": "biblio.bib",
   "cite_by": "apalike",
   "current_citInitial": 1,
   "eqLabelWithNumbers": true,
   "eqNumInitial": 1,
   "hotkeys": {
    "equation": "Ctrl-E",
    "itemize": "Ctrl-I"
   },
   "labels_anchors": false,
   "latex_user_defs": false,
   "report_style_numbering": false,
   "user_envs_cfg": false
  },
  "nbTranslate": {
   "displayLangs": [
    "*"
   ],
   "hotkey": "alt-t",
   "langInMainMenu": true,
   "sourceLang": "en",
   "targetLang": "fr",
   "useGoogleTranslate": true
  },
  "toc": {
   "base_numbering": 1,
   "nav_menu": {},
   "number_sections": true,
   "sideBar": true,
   "skip_h1_title": false,
   "title_cell": "Table of Contents",
   "title_sidebar": "Contents",
   "toc_cell": false,
   "toc_position": {},
   "toc_section_display": true,
   "toc_window_display": false
  },
  "varInspector": {
   "cols": {
    "lenName": 16,
    "lenType": 16,
    "lenVar": 40
   },
   "kernels_config": {
    "python": {
     "delete_cmd_postfix": "",
     "delete_cmd_prefix": "del ",
     "library": "var_list.py",
     "varRefreshCmd": "print(var_dic_list())"
    },
    "r": {
     "delete_cmd_postfix": ") ",
     "delete_cmd_prefix": "rm(",
     "library": "var_list.r",
     "varRefreshCmd": "cat(var_dic_list()) "
    }
   },
   "types_to_exclude": [
    "module",
    "function",
    "builtin_function_or_method",
    "instance",
    "_Feature"
   ],
   "window_display": false
  }
 },
 "nbformat": 4,
 "nbformat_minor": 5
}
